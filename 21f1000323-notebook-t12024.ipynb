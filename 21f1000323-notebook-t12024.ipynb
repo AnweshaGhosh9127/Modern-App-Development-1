{
 "cells": [
  {
   "cell_type": "code",
   "execution_count": 1,
   "id": "20f911f1",
   "metadata": {
    "_cell_guid": "b1076dfc-b9ad-4769-8c92-a6c4dae69d19",
    "_uuid": "8f2839f25d086af736a60e9eeb907d3b93b6e0e5",
    "execution": {
     "iopub.execute_input": "2024-08-16T12:53:45.611151Z",
     "iopub.status.busy": "2024-08-16T12:53:45.610715Z",
     "iopub.status.idle": "2024-08-16T12:53:46.658500Z",
     "shell.execute_reply": "2024-08-16T12:53:46.657130Z"
    },
    "papermill": {
     "duration": 1.079686,
     "end_time": "2024-08-16T12:53:46.661686",
     "exception": false,
     "start_time": "2024-08-16T12:53:45.582000",
     "status": "completed"
    },
    "tags": []
   },
   "outputs": [
    {
     "name": "stdout",
     "output_type": "stream",
     "text": [
      "/kaggle/input/recipe-for-rating-predict-food-ratings-using-ml/sample.csv\n",
      "/kaggle/input/recipe-for-rating-predict-food-ratings-using-ml/train.csv\n",
      "/kaggle/input/recipe-for-rating-predict-food-ratings-using-ml/test.csv\n"
     ]
    }
   ],
   "source": [
    "# This Python 3 environment comes with many helpful analytics libraries installed\n",
    "# It is defined by the kaggle/python Docker image: https://github.com/kaggle/docker-python\n",
    "# For example, here's several helpful packages to load\n",
    "\n",
    "import numpy as np # linear algebra\n",
    "import pandas as pd # data processing, CSV file I/O (e.g. pd.read_csv)\n",
    "\n",
    "# Input data files are available in the read-only \"../input/\" directory\n",
    "# For example, running this (by clicking run or pressing Shift+Enter) will list all files under the input directory\n",
    "\n",
    "import os\n",
    "for dirname, _, filenames in os.walk('/kaggle/input'):\n",
    "    for filename in filenames:\n",
    "        print(os.path.join(dirname, filename))\n",
    "\n",
    "# You can write up to 20GB to the current directory (/kaggle/working/) that gets preserved as output when you create a version using \"Save & Run All\" \n",
    "# You can also write temporary files to /kaggle/temp/, but they won't be saved outside of the current session"
   ]
  },
  {
   "cell_type": "markdown",
   "id": "735f5c43",
   "metadata": {
    "papermill": {
     "duration": 0.034924,
     "end_time": "2024-08-16T12:53:46.725675",
     "exception": false,
     "start_time": "2024-08-16T12:53:46.690751",
     "status": "completed"
    },
    "tags": []
   },
   "source": [
    "# **Load basic libraries**"
   ]
  },
  {
   "cell_type": "code",
   "execution_count": 2,
   "id": "387e3ff0",
   "metadata": {
    "execution": {
     "iopub.execute_input": "2024-08-16T12:53:46.786148Z",
     "iopub.status.busy": "2024-08-16T12:53:46.785484Z",
     "iopub.status.idle": "2024-08-16T12:53:48.466608Z",
     "shell.execute_reply": "2024-08-16T12:53:48.465358Z"
    },
    "papermill": {
     "duration": 1.715227,
     "end_time": "2024-08-16T12:53:48.469631",
     "exception": false,
     "start_time": "2024-08-16T12:53:46.754404",
     "status": "completed"
    },
    "tags": []
   },
   "outputs": [],
   "source": [
    "import matplotlib.pyplot as plt\n",
    "import seaborn as sns"
   ]
  },
  {
   "cell_type": "code",
   "execution_count": 3,
   "id": "287854a2",
   "metadata": {
    "execution": {
     "iopub.execute_input": "2024-08-16T12:53:48.525134Z",
     "iopub.status.busy": "2024-08-16T12:53:48.524706Z",
     "iopub.status.idle": "2024-08-16T12:53:48.933385Z",
     "shell.execute_reply": "2024-08-16T12:53:48.932332Z"
    },
    "papermill": {
     "duration": 0.43995,
     "end_time": "2024-08-16T12:53:48.936451",
     "exception": false,
     "start_time": "2024-08-16T12:53:48.496501",
     "status": "completed"
    },
    "tags": []
   },
   "outputs": [],
   "source": [
    "from sklearn.model_selection import train_test_split\n",
    "from sklearn.dummy import DummyClassifier\n",
    "from sklearn.metrics import accuracy_score"
   ]
  },
  {
   "cell_type": "markdown",
   "id": "f6170def",
   "metadata": {
    "papermill": {
     "duration": 0.026553,
     "end_time": "2024-08-16T12:53:48.990302",
     "exception": false,
     "start_time": "2024-08-16T12:53:48.963749",
     "status": "completed"
    },
    "tags": []
   },
   "source": [
    "# **Load the datasets**"
   ]
  },
  {
   "cell_type": "code",
   "execution_count": 4,
   "id": "75c7c5e8",
   "metadata": {
    "execution": {
     "iopub.execute_input": "2024-08-16T12:53:49.116438Z",
     "iopub.status.busy": "2024-08-16T12:53:49.115878Z",
     "iopub.status.idle": "2024-08-16T12:53:49.391823Z",
     "shell.execute_reply": "2024-08-16T12:53:49.390217Z"
    },
    "papermill": {
     "duration": 0.309016,
     "end_time": "2024-08-16T12:53:49.394865",
     "exception": false,
     "start_time": "2024-08-16T12:53:49.085849",
     "status": "completed"
    },
    "tags": []
   },
   "outputs": [],
   "source": [
    "train_dataset = pd.read_csv(\"/kaggle/input/recipe-for-rating-predict-food-ratings-using-ml/train.csv\")\n",
    "test_dataset = pd.read_csv(\"/kaggle/input/recipe-for-rating-predict-food-ratings-using-ml/test.csv\")\n",
    "sample_dataset = pd.read_csv(\"/kaggle/input/recipe-for-rating-predict-food-ratings-using-ml/sample.csv\")"
   ]
  },
  {
   "cell_type": "markdown",
   "id": "da44cbf3",
   "metadata": {
    "papermill": {
     "duration": 0.027149,
     "end_time": "2024-08-16T12:53:49.449844",
     "exception": false,
     "start_time": "2024-08-16T12:53:49.422695",
     "status": "completed"
    },
    "tags": []
   },
   "source": [
    "# **Data samples and statistics**"
   ]
  },
  {
   "cell_type": "code",
   "execution_count": 5,
   "id": "25655eae",
   "metadata": {
    "execution": {
     "iopub.execute_input": "2024-08-16T12:53:49.507172Z",
     "iopub.status.busy": "2024-08-16T12:53:49.506746Z",
     "iopub.status.idle": "2024-08-16T12:53:49.567864Z",
     "shell.execute_reply": "2024-08-16T12:53:49.566653Z"
    },
    "papermill": {
     "duration": 0.09294,
     "end_time": "2024-08-16T12:53:49.570599",
     "exception": false,
     "start_time": "2024-08-16T12:53:49.477659",
     "status": "completed"
    },
    "tags": []
   },
   "outputs": [
    {
     "data": {
      "text/plain": [
       "(0, 0)"
      ]
     },
     "execution_count": 5,
     "metadata": {},
     "output_type": "execute_result"
    }
   ],
   "source": [
    "train_dataset.duplicated().sum(), test_dataset.duplicated().sum()"
   ]
  },
  {
   "cell_type": "code",
   "execution_count": 6,
   "id": "c6f99d97",
   "metadata": {
    "execution": {
     "iopub.execute_input": "2024-08-16T12:53:49.629589Z",
     "iopub.status.busy": "2024-08-16T12:53:49.629192Z",
     "iopub.status.idle": "2024-08-16T12:53:49.636987Z",
     "shell.execute_reply": "2024-08-16T12:53:49.635852Z"
    },
    "papermill": {
     "duration": 0.040779,
     "end_time": "2024-08-16T12:53:49.639702",
     "exception": false,
     "start_time": "2024-08-16T12:53:49.598923",
     "status": "completed"
    },
    "tags": []
   },
   "outputs": [
    {
     "data": {
      "text/plain": [
       "((13636, 15), (4546, 14), (1000, 2))"
      ]
     },
     "execution_count": 6,
     "metadata": {},
     "output_type": "execute_result"
    }
   ],
   "source": [
    "train_dataset.shape, test_dataset.shape, sample_dataset.shape"
   ]
  },
  {
   "cell_type": "code",
   "execution_count": 7,
   "id": "b815cfcb",
   "metadata": {
    "execution": {
     "iopub.execute_input": "2024-08-16T12:53:49.696681Z",
     "iopub.status.busy": "2024-08-16T12:53:49.696269Z",
     "iopub.status.idle": "2024-08-16T12:53:49.718193Z",
     "shell.execute_reply": "2024-08-16T12:53:49.716924Z"
    },
    "papermill": {
     "duration": 0.053919,
     "end_time": "2024-08-16T12:53:49.721188",
     "exception": false,
     "start_time": "2024-08-16T12:53:49.667269",
     "status": "completed"
    },
    "tags": []
   },
   "outputs": [
    {
     "data": {
      "text/html": [
       "<div>\n",
       "<style scoped>\n",
       "    .dataframe tbody tr th:only-of-type {\n",
       "        vertical-align: middle;\n",
       "    }\n",
       "\n",
       "    .dataframe tbody tr th {\n",
       "        vertical-align: top;\n",
       "    }\n",
       "\n",
       "    .dataframe thead th {\n",
       "        text-align: right;\n",
       "    }\n",
       "</style>\n",
       "<table border=\"1\" class=\"dataframe\">\n",
       "  <thead>\n",
       "    <tr style=\"text-align: right;\">\n",
       "      <th></th>\n",
       "      <th>ID</th>\n",
       "      <th>RecipeNumber</th>\n",
       "      <th>RecipeCode</th>\n",
       "      <th>RecipeName</th>\n",
       "      <th>CommentID</th>\n",
       "      <th>UserID</th>\n",
       "      <th>UserName</th>\n",
       "      <th>UserReputation</th>\n",
       "      <th>CreationTimestamp</th>\n",
       "      <th>ReplyCount</th>\n",
       "      <th>ThumbsUpCount</th>\n",
       "      <th>ThumbsDownCount</th>\n",
       "      <th>Rating</th>\n",
       "      <th>BestScore</th>\n",
       "      <th>Recipe_Review</th>\n",
       "    </tr>\n",
       "  </thead>\n",
       "  <tbody>\n",
       "    <tr>\n",
       "      <th>0</th>\n",
       "      <td>70</td>\n",
       "      <td>71</td>\n",
       "      <td>12259</td>\n",
       "      <td>Banana Bars with Cream Cheese Frosting</td>\n",
       "      <td>sp_aUSaElGf_12259_c_149978</td>\n",
       "      <td>u_1oKVaBmiEKwAFyiHrDLoWpbel0J</td>\n",
       "      <td>misscoffeepot</td>\n",
       "      <td>20</td>\n",
       "      <td>1622717078</td>\n",
       "      <td>0</td>\n",
       "      <td>0</td>\n",
       "      <td>0</td>\n",
       "      <td>5</td>\n",
       "      <td>100</td>\n",
       "      <td>great recipe! I have made them just as written...</td>\n",
       "    </tr>\n",
       "    <tr>\n",
       "      <th>1</th>\n",
       "      <td>72</td>\n",
       "      <td>88</td>\n",
       "      <td>8202</td>\n",
       "      <td>Simple Taco Soup</td>\n",
       "      <td>sp_aUSaElGf_8202_c_310332</td>\n",
       "      <td>u_1oKZeRIXYzGNhGW8OMR3O4lX1ih</td>\n",
       "      <td>MichelleMalone</td>\n",
       "      <td>1</td>\n",
       "      <td>1622717852</td>\n",
       "      <td>0</td>\n",
       "      <td>0</td>\n",
       "      <td>1</td>\n",
       "      <td>5</td>\n",
       "      <td>100</td>\n",
       "      <td>This is an easy and quick recipe that is great...</td>\n",
       "    </tr>\n",
       "    <tr>\n",
       "      <th>2</th>\n",
       "      <td>458</td>\n",
       "      <td>3</td>\n",
       "      <td>2832</td>\n",
       "      <td>Cheeseburger Soup</td>\n",
       "      <td>sp_aUSaElGf_2832_c_206522</td>\n",
       "      <td>u_1oKYHUtdaD48KJCDYq5wfpAUxWz</td>\n",
       "      <td>jeannem32</td>\n",
       "      <td>1</td>\n",
       "      <td>1622717357</td>\n",
       "      <td>0</td>\n",
       "      <td>0</td>\n",
       "      <td>0</td>\n",
       "      <td>3</td>\n",
       "      <td>100</td>\n",
       "      <td>I think I was looking for something extra spec...</td>\n",
       "    </tr>\n",
       "    <tr>\n",
       "      <th>3</th>\n",
       "      <td>7</td>\n",
       "      <td>50</td>\n",
       "      <td>100276</td>\n",
       "      <td>Grilled Huli Huli Chicken</td>\n",
       "      <td>sp_aUSaElGf_100276_c_434088</td>\n",
       "      <td>u_1oKZCQcKQZdQhDVBS7oISc216VA</td>\n",
       "      <td>ds422</td>\n",
       "      <td>1</td>\n",
       "      <td>1622648899</td>\n",
       "      <td>0</td>\n",
       "      <td>0</td>\n",
       "      <td>0</td>\n",
       "      <td>5</td>\n",
       "      <td>100</td>\n",
       "      <td>This is our favorite grilled chicken recipe.  ...</td>\n",
       "    </tr>\n",
       "    <tr>\n",
       "      <th>4</th>\n",
       "      <td>60</td>\n",
       "      <td>12</td>\n",
       "      <td>19731</td>\n",
       "      <td>Cauliflower Soup</td>\n",
       "      <td>sp_aUSaElGf_19731_c_387011</td>\n",
       "      <td>u_1oKd4sudZQPgu6YALiC7bW7mKMs</td>\n",
       "      <td>SusanHoward</td>\n",
       "      <td>1</td>\n",
       "      <td>1622718260</td>\n",
       "      <td>0</td>\n",
       "      <td>0</td>\n",
       "      <td>0</td>\n",
       "      <td>4</td>\n",
       "      <td>100</td>\n",
       "      <td>Great basic recipe. I added 2 teaspoons Tuscan...</td>\n",
       "    </tr>\n",
       "  </tbody>\n",
       "</table>\n",
       "</div>"
      ],
      "text/plain": [
       "    ID  RecipeNumber  RecipeCode                              RecipeName  \\\n",
       "0   70            71       12259  Banana Bars with Cream Cheese Frosting   \n",
       "1   72            88        8202                        Simple Taco Soup   \n",
       "2  458             3        2832                       Cheeseburger Soup   \n",
       "3    7            50      100276               Grilled Huli Huli Chicken   \n",
       "4   60            12       19731                        Cauliflower Soup   \n",
       "\n",
       "                     CommentID                         UserID        UserName  \\\n",
       "0   sp_aUSaElGf_12259_c_149978  u_1oKVaBmiEKwAFyiHrDLoWpbel0J   misscoffeepot   \n",
       "1    sp_aUSaElGf_8202_c_310332  u_1oKZeRIXYzGNhGW8OMR3O4lX1ih  MichelleMalone   \n",
       "2    sp_aUSaElGf_2832_c_206522  u_1oKYHUtdaD48KJCDYq5wfpAUxWz       jeannem32   \n",
       "3  sp_aUSaElGf_100276_c_434088  u_1oKZCQcKQZdQhDVBS7oISc216VA           ds422   \n",
       "4   sp_aUSaElGf_19731_c_387011  u_1oKd4sudZQPgu6YALiC7bW7mKMs     SusanHoward   \n",
       "\n",
       "   UserReputation  CreationTimestamp  ReplyCount  ThumbsUpCount  \\\n",
       "0              20         1622717078           0              0   \n",
       "1               1         1622717852           0              0   \n",
       "2               1         1622717357           0              0   \n",
       "3               1         1622648899           0              0   \n",
       "4               1         1622718260           0              0   \n",
       "\n",
       "   ThumbsDownCount  Rating  BestScore  \\\n",
       "0                0       5        100   \n",
       "1                1       5        100   \n",
       "2                0       3        100   \n",
       "3                0       5        100   \n",
       "4                0       4        100   \n",
       "\n",
       "                                       Recipe_Review  \n",
       "0  great recipe! I have made them just as written...  \n",
       "1  This is an easy and quick recipe that is great...  \n",
       "2  I think I was looking for something extra spec...  \n",
       "3  This is our favorite grilled chicken recipe.  ...  \n",
       "4  Great basic recipe. I added 2 teaspoons Tuscan...  "
      ]
     },
     "execution_count": 7,
     "metadata": {},
     "output_type": "execute_result"
    }
   ],
   "source": [
    "train_dataset.head()"
   ]
  },
  {
   "cell_type": "code",
   "execution_count": 8,
   "id": "f5edcffb",
   "metadata": {
    "execution": {
     "iopub.execute_input": "2024-08-16T12:53:49.781085Z",
     "iopub.status.busy": "2024-08-16T12:53:49.780624Z",
     "iopub.status.idle": "2024-08-16T12:53:49.801383Z",
     "shell.execute_reply": "2024-08-16T12:53:49.799885Z"
    },
    "papermill": {
     "duration": 0.053733,
     "end_time": "2024-08-16T12:53:49.804396",
     "exception": false,
     "start_time": "2024-08-16T12:53:49.750663",
     "status": "completed"
    },
    "tags": []
   },
   "outputs": [
    {
     "data": {
      "text/html": [
       "<div>\n",
       "<style scoped>\n",
       "    .dataframe tbody tr th:only-of-type {\n",
       "        vertical-align: middle;\n",
       "    }\n",
       "\n",
       "    .dataframe tbody tr th {\n",
       "        vertical-align: top;\n",
       "    }\n",
       "\n",
       "    .dataframe thead th {\n",
       "        text-align: right;\n",
       "    }\n",
       "</style>\n",
       "<table border=\"1\" class=\"dataframe\">\n",
       "  <thead>\n",
       "    <tr style=\"text-align: right;\">\n",
       "      <th></th>\n",
       "      <th>ID</th>\n",
       "      <th>RecipeNumber</th>\n",
       "      <th>RecipeCode</th>\n",
       "      <th>RecipeName</th>\n",
       "      <th>CommentID</th>\n",
       "      <th>UserID</th>\n",
       "      <th>UserName</th>\n",
       "      <th>UserReputation</th>\n",
       "      <th>CreationTimestamp</th>\n",
       "      <th>ReplyCount</th>\n",
       "      <th>ThumbsUpCount</th>\n",
       "      <th>ThumbsDownCount</th>\n",
       "      <th>BestScore</th>\n",
       "      <th>Recipe_Review</th>\n",
       "    </tr>\n",
       "  </thead>\n",
       "  <tbody>\n",
       "    <tr>\n",
       "      <th>0</th>\n",
       "      <td>86</td>\n",
       "      <td>45</td>\n",
       "      <td>41384</td>\n",
       "      <td>Black Bean ‘n’ Pumpkin Chili</td>\n",
       "      <td>sp_aUSaElGf_41384_c_341929</td>\n",
       "      <td>u_1oKc4U6bh65cEli8Z8eTIf98Vpr</td>\n",
       "      <td>kalloween</td>\n",
       "      <td>1</td>\n",
       "      <td>1622718043</td>\n",
       "      <td>0</td>\n",
       "      <td>0</td>\n",
       "      <td>0</td>\n",
       "      <td>100</td>\n",
       "      <td>This was so good!!  The pumpkin was perfect as...</td>\n",
       "    </tr>\n",
       "    <tr>\n",
       "      <th>1</th>\n",
       "      <td>102</td>\n",
       "      <td>53</td>\n",
       "      <td>3143</td>\n",
       "      <td>Pumpkin Bars</td>\n",
       "      <td>sp_aUSaElGf_3143_c_274545</td>\n",
       "      <td>u_1oKW5seFLQMSwAeOfBVmwJizy5D</td>\n",
       "      <td>chocolate desert</td>\n",
       "      <td>1</td>\n",
       "      <td>1622717685</td>\n",
       "      <td>0</td>\n",
       "      <td>0</td>\n",
       "      <td>1</td>\n",
       "      <td>100</td>\n",
       "      <td>So good!   Could not stop eating them, so bad....</td>\n",
       "    </tr>\n",
       "    <tr>\n",
       "      <th>2</th>\n",
       "      <td>156</td>\n",
       "      <td>53</td>\n",
       "      <td>3143</td>\n",
       "      <td>Pumpkin Bars</td>\n",
       "      <td>sp_aUSaElGf_3143_c_398512</td>\n",
       "      <td>u_1oKZ6GUIAIol8xe6oEI7t1Mpxdz</td>\n",
       "      <td>Vantreesta</td>\n",
       "      <td>1</td>\n",
       "      <td>1622718307</td>\n",
       "      <td>0</td>\n",
       "      <td>0</td>\n",
       "      <td>0</td>\n",
       "      <td>100</td>\n",
       "      <td>I use a small ladle to fill muffin cups.</td>\n",
       "    </tr>\n",
       "    <tr>\n",
       "      <th>3</th>\n",
       "      <td>18</td>\n",
       "      <td>89</td>\n",
       "      <td>1324</td>\n",
       "      <td>Porcupine Meatballs</td>\n",
       "      <td>sp_aUSaElGf_1324_c_431662</td>\n",
       "      <td>u_1oKWCP33NVk4Osfpu4VJuIckEF0</td>\n",
       "      <td>Roberta L.Beauchamp</td>\n",
       "      <td>1</td>\n",
       "      <td>1622648872</td>\n",
       "      <td>0</td>\n",
       "      <td>4</td>\n",
       "      <td>3</td>\n",
       "      <td>212</td>\n",
       "      <td>I made this and followed the instructions as d...</td>\n",
       "    </tr>\n",
       "    <tr>\n",
       "      <th>4</th>\n",
       "      <td>27</td>\n",
       "      <td>70</td>\n",
       "      <td>32264</td>\n",
       "      <td>Easy Chicken Enchiladas</td>\n",
       "      <td>sp_aUSaElGf_32264_c_423935</td>\n",
       "      <td>u_1oKVhIJMuUlrSCVkbO1jheVTol8</td>\n",
       "      <td>fhquilting</td>\n",
       "      <td>1</td>\n",
       "      <td>1622718460</td>\n",
       "      <td>0</td>\n",
       "      <td>0</td>\n",
       "      <td>1</td>\n",
       "      <td>100</td>\n",
       "      <td>Very Good!  I used corn tortillas.  Used fresh...</td>\n",
       "    </tr>\n",
       "  </tbody>\n",
       "</table>\n",
       "</div>"
      ],
      "text/plain": [
       "    ID  RecipeNumber  RecipeCode                    RecipeName  \\\n",
       "0   86            45       41384  Black Bean ‘n’ Pumpkin Chili   \n",
       "1  102            53        3143                  Pumpkin Bars   \n",
       "2  156            53        3143                  Pumpkin Bars   \n",
       "3   18            89        1324           Porcupine Meatballs   \n",
       "4   27            70       32264       Easy Chicken Enchiladas   \n",
       "\n",
       "                    CommentID                         UserID  \\\n",
       "0  sp_aUSaElGf_41384_c_341929  u_1oKc4U6bh65cEli8Z8eTIf98Vpr   \n",
       "1   sp_aUSaElGf_3143_c_274545  u_1oKW5seFLQMSwAeOfBVmwJizy5D   \n",
       "2   sp_aUSaElGf_3143_c_398512  u_1oKZ6GUIAIol8xe6oEI7t1Mpxdz   \n",
       "3   sp_aUSaElGf_1324_c_431662  u_1oKWCP33NVk4Osfpu4VJuIckEF0   \n",
       "4  sp_aUSaElGf_32264_c_423935  u_1oKVhIJMuUlrSCVkbO1jheVTol8   \n",
       "\n",
       "              UserName  UserReputation  CreationTimestamp  ReplyCount  \\\n",
       "0            kalloween               1         1622718043           0   \n",
       "1     chocolate desert               1         1622717685           0   \n",
       "2           Vantreesta               1         1622718307           0   \n",
       "3  Roberta L.Beauchamp               1         1622648872           0   \n",
       "4           fhquilting               1         1622718460           0   \n",
       "\n",
       "   ThumbsUpCount  ThumbsDownCount  BestScore  \\\n",
       "0              0                0        100   \n",
       "1              0                1        100   \n",
       "2              0                0        100   \n",
       "3              4                3        212   \n",
       "4              0                1        100   \n",
       "\n",
       "                                       Recipe_Review  \n",
       "0  This was so good!!  The pumpkin was perfect as...  \n",
       "1  So good!   Could not stop eating them, so bad....  \n",
       "2           I use a small ladle to fill muffin cups.  \n",
       "3  I made this and followed the instructions as d...  \n",
       "4  Very Good!  I used corn tortillas.  Used fresh...  "
      ]
     },
     "execution_count": 8,
     "metadata": {},
     "output_type": "execute_result"
    }
   ],
   "source": [
    "test_dataset.head()"
   ]
  },
  {
   "cell_type": "code",
   "execution_count": 9,
   "id": "8e86ea86",
   "metadata": {
    "execution": {
     "iopub.execute_input": "2024-08-16T12:53:49.865189Z",
     "iopub.status.busy": "2024-08-16T12:53:49.864741Z",
     "iopub.status.idle": "2024-08-16T12:53:49.876918Z",
     "shell.execute_reply": "2024-08-16T12:53:49.875491Z"
    },
    "papermill": {
     "duration": 0.046621,
     "end_time": "2024-08-16T12:53:49.880356",
     "exception": false,
     "start_time": "2024-08-16T12:53:49.833735",
     "status": "completed"
    },
    "tags": []
   },
   "outputs": [
    {
     "data": {
      "text/html": [
       "<div>\n",
       "<style scoped>\n",
       "    .dataframe tbody tr th:only-of-type {\n",
       "        vertical-align: middle;\n",
       "    }\n",
       "\n",
       "    .dataframe tbody tr th {\n",
       "        vertical-align: top;\n",
       "    }\n",
       "\n",
       "    .dataframe thead th {\n",
       "        text-align: right;\n",
       "    }\n",
       "</style>\n",
       "<table border=\"1\" class=\"dataframe\">\n",
       "  <thead>\n",
       "    <tr style=\"text-align: right;\">\n",
       "      <th></th>\n",
       "      <th>ID</th>\n",
       "      <th>Rating</th>\n",
       "    </tr>\n",
       "  </thead>\n",
       "  <tbody>\n",
       "    <tr>\n",
       "      <th>0</th>\n",
       "      <td>1</td>\n",
       "      <td>5</td>\n",
       "    </tr>\n",
       "    <tr>\n",
       "      <th>1</th>\n",
       "      <td>2</td>\n",
       "      <td>2</td>\n",
       "    </tr>\n",
       "    <tr>\n",
       "      <th>2</th>\n",
       "      <td>3</td>\n",
       "      <td>4</td>\n",
       "    </tr>\n",
       "    <tr>\n",
       "      <th>3</th>\n",
       "      <td>4</td>\n",
       "      <td>2</td>\n",
       "    </tr>\n",
       "    <tr>\n",
       "      <th>4</th>\n",
       "      <td>5</td>\n",
       "      <td>4</td>\n",
       "    </tr>\n",
       "  </tbody>\n",
       "</table>\n",
       "</div>"
      ],
      "text/plain": [
       "   ID  Rating\n",
       "0   1       5\n",
       "1   2       2\n",
       "2   3       4\n",
       "3   4       2\n",
       "4   5       4"
      ]
     },
     "execution_count": 9,
     "metadata": {},
     "output_type": "execute_result"
    }
   ],
   "source": [
    "sample_dataset.head()"
   ]
  },
  {
   "cell_type": "code",
   "execution_count": 10,
   "id": "d92810cc",
   "metadata": {
    "execution": {
     "iopub.execute_input": "2024-08-16T12:53:49.940182Z",
     "iopub.status.busy": "2024-08-16T12:53:49.939687Z",
     "iopub.status.idle": "2024-08-16T12:53:49.990397Z",
     "shell.execute_reply": "2024-08-16T12:53:49.989120Z"
    },
    "papermill": {
     "duration": 0.084037,
     "end_time": "2024-08-16T12:53:49.993611",
     "exception": false,
     "start_time": "2024-08-16T12:53:49.909574",
     "status": "completed"
    },
    "tags": []
   },
   "outputs": [
    {
     "data": {
      "text/html": [
       "<div>\n",
       "<style scoped>\n",
       "    .dataframe tbody tr th:only-of-type {\n",
       "        vertical-align: middle;\n",
       "    }\n",
       "\n",
       "    .dataframe tbody tr th {\n",
       "        vertical-align: top;\n",
       "    }\n",
       "\n",
       "    .dataframe thead th {\n",
       "        text-align: right;\n",
       "    }\n",
       "</style>\n",
       "<table border=\"1\" class=\"dataframe\">\n",
       "  <thead>\n",
       "    <tr style=\"text-align: right;\">\n",
       "      <th></th>\n",
       "      <th>ID</th>\n",
       "      <th>RecipeNumber</th>\n",
       "      <th>RecipeCode</th>\n",
       "      <th>UserReputation</th>\n",
       "      <th>CreationTimestamp</th>\n",
       "      <th>ReplyCount</th>\n",
       "      <th>ThumbsUpCount</th>\n",
       "      <th>ThumbsDownCount</th>\n",
       "      <th>Rating</th>\n",
       "      <th>BestScore</th>\n",
       "    </tr>\n",
       "  </thead>\n",
       "  <tbody>\n",
       "    <tr>\n",
       "      <th>count</th>\n",
       "      <td>13636.000000</td>\n",
       "      <td>13636.000000</td>\n",
       "      <td>13636.000000</td>\n",
       "      <td>13636.000000</td>\n",
       "      <td>1.363600e+04</td>\n",
       "      <td>13636.000000</td>\n",
       "      <td>13636.000000</td>\n",
       "      <td>13636.000000</td>\n",
       "      <td>13636.000000</td>\n",
       "      <td>13636.000000</td>\n",
       "    </tr>\n",
       "    <tr>\n",
       "      <th>mean</th>\n",
       "      <td>121.085289</td>\n",
       "      <td>38.624377</td>\n",
       "      <td>21785.990833</td>\n",
       "      <td>2.160311</td>\n",
       "      <td>1.623713e+09</td>\n",
       "      <td>0.014520</td>\n",
       "      <td>1.098269</td>\n",
       "      <td>0.543708</td>\n",
       "      <td>4.288721</td>\n",
       "      <td>153.127897</td>\n",
       "    </tr>\n",
       "    <tr>\n",
       "      <th>std</th>\n",
       "      <td>116.995633</td>\n",
       "      <td>29.672351</td>\n",
       "      <td>23883.189918</td>\n",
       "      <td>10.086424</td>\n",
       "      <td>5.444020e+06</td>\n",
       "      <td>0.137323</td>\n",
       "      <td>4.166487</td>\n",
       "      <td>3.265660</td>\n",
       "      <td>1.544839</td>\n",
       "      <td>140.986908</td>\n",
       "    </tr>\n",
       "    <tr>\n",
       "      <th>min</th>\n",
       "      <td>0.000000</td>\n",
       "      <td>1.000000</td>\n",
       "      <td>386.000000</td>\n",
       "      <td>0.000000</td>\n",
       "      <td>1.613035e+09</td>\n",
       "      <td>0.000000</td>\n",
       "      <td>0.000000</td>\n",
       "      <td>0.000000</td>\n",
       "      <td>0.000000</td>\n",
       "      <td>0.000000</td>\n",
       "    </tr>\n",
       "    <tr>\n",
       "      <th>25%</th>\n",
       "      <td>45.000000</td>\n",
       "      <td>12.000000</td>\n",
       "      <td>6504.000000</td>\n",
       "      <td>1.000000</td>\n",
       "      <td>1.622717e+09</td>\n",
       "      <td>0.000000</td>\n",
       "      <td>0.000000</td>\n",
       "      <td>0.000000</td>\n",
       "      <td>5.000000</td>\n",
       "      <td>100.000000</td>\n",
       "    </tr>\n",
       "    <tr>\n",
       "      <th>50%</th>\n",
       "      <td>91.000000</td>\n",
       "      <td>33.000000</td>\n",
       "      <td>14600.000000</td>\n",
       "      <td>1.000000</td>\n",
       "      <td>1.622718e+09</td>\n",
       "      <td>0.000000</td>\n",
       "      <td>0.000000</td>\n",
       "      <td>0.000000</td>\n",
       "      <td>5.000000</td>\n",
       "      <td>100.000000</td>\n",
       "    </tr>\n",
       "    <tr>\n",
       "      <th>75%</th>\n",
       "      <td>148.000000</td>\n",
       "      <td>63.000000</td>\n",
       "      <td>33121.000000</td>\n",
       "      <td>1.000000</td>\n",
       "      <td>1.622718e+09</td>\n",
       "      <td>0.000000</td>\n",
       "      <td>0.000000</td>\n",
       "      <td>0.000000</td>\n",
       "      <td>5.000000</td>\n",
       "      <td>100.000000</td>\n",
       "    </tr>\n",
       "    <tr>\n",
       "      <th>max</th>\n",
       "      <td>724.000000</td>\n",
       "      <td>100.000000</td>\n",
       "      <td>191775.000000</td>\n",
       "      <td>510.000000</td>\n",
       "      <td>1.665756e+09</td>\n",
       "      <td>3.000000</td>\n",
       "      <td>80.000000</td>\n",
       "      <td>126.000000</td>\n",
       "      <td>5.000000</td>\n",
       "      <td>946.000000</td>\n",
       "    </tr>\n",
       "  </tbody>\n",
       "</table>\n",
       "</div>"
      ],
      "text/plain": [
       "                 ID  RecipeNumber     RecipeCode  UserReputation  \\\n",
       "count  13636.000000  13636.000000   13636.000000    13636.000000   \n",
       "mean     121.085289     38.624377   21785.990833        2.160311   \n",
       "std      116.995633     29.672351   23883.189918       10.086424   \n",
       "min        0.000000      1.000000     386.000000        0.000000   \n",
       "25%       45.000000     12.000000    6504.000000        1.000000   \n",
       "50%       91.000000     33.000000   14600.000000        1.000000   \n",
       "75%      148.000000     63.000000   33121.000000        1.000000   \n",
       "max      724.000000    100.000000  191775.000000      510.000000   \n",
       "\n",
       "       CreationTimestamp    ReplyCount  ThumbsUpCount  ThumbsDownCount  \\\n",
       "count       1.363600e+04  13636.000000   13636.000000     13636.000000   \n",
       "mean        1.623713e+09      0.014520       1.098269         0.543708   \n",
       "std         5.444020e+06      0.137323       4.166487         3.265660   \n",
       "min         1.613035e+09      0.000000       0.000000         0.000000   \n",
       "25%         1.622717e+09      0.000000       0.000000         0.000000   \n",
       "50%         1.622718e+09      0.000000       0.000000         0.000000   \n",
       "75%         1.622718e+09      0.000000       0.000000         0.000000   \n",
       "max         1.665756e+09      3.000000      80.000000       126.000000   \n",
       "\n",
       "             Rating     BestScore  \n",
       "count  13636.000000  13636.000000  \n",
       "mean       4.288721    153.127897  \n",
       "std        1.544839    140.986908  \n",
       "min        0.000000      0.000000  \n",
       "25%        5.000000    100.000000  \n",
       "50%        5.000000    100.000000  \n",
       "75%        5.000000    100.000000  \n",
       "max        5.000000    946.000000  "
      ]
     },
     "execution_count": 10,
     "metadata": {},
     "output_type": "execute_result"
    }
   ],
   "source": [
    "train_dataset.describe()"
   ]
  },
  {
   "cell_type": "code",
   "execution_count": 11,
   "id": "cd747d64",
   "metadata": {
    "execution": {
     "iopub.execute_input": "2024-08-16T12:53:50.053956Z",
     "iopub.status.busy": "2024-08-16T12:53:50.052937Z",
     "iopub.status.idle": "2024-08-16T12:53:50.096649Z",
     "shell.execute_reply": "2024-08-16T12:53:50.095318Z"
    },
    "papermill": {
     "duration": 0.076828,
     "end_time": "2024-08-16T12:53:50.099457",
     "exception": false,
     "start_time": "2024-08-16T12:53:50.022629",
     "status": "completed"
    },
    "tags": []
   },
   "outputs": [
    {
     "data": {
      "text/html": [
       "<div>\n",
       "<style scoped>\n",
       "    .dataframe tbody tr th:only-of-type {\n",
       "        vertical-align: middle;\n",
       "    }\n",
       "\n",
       "    .dataframe tbody tr th {\n",
       "        vertical-align: top;\n",
       "    }\n",
       "\n",
       "    .dataframe thead th {\n",
       "        text-align: right;\n",
       "    }\n",
       "</style>\n",
       "<table border=\"1\" class=\"dataframe\">\n",
       "  <thead>\n",
       "    <tr style=\"text-align: right;\">\n",
       "      <th></th>\n",
       "      <th>ID</th>\n",
       "      <th>RecipeNumber</th>\n",
       "      <th>RecipeCode</th>\n",
       "      <th>UserReputation</th>\n",
       "      <th>CreationTimestamp</th>\n",
       "      <th>ReplyCount</th>\n",
       "      <th>ThumbsUpCount</th>\n",
       "      <th>ThumbsDownCount</th>\n",
       "      <th>BestScore</th>\n",
       "    </tr>\n",
       "  </thead>\n",
       "  <tbody>\n",
       "    <tr>\n",
       "      <th>count</th>\n",
       "      <td>4546.000000</td>\n",
       "      <td>4546.000000</td>\n",
       "      <td>4546.000000</td>\n",
       "      <td>4546.000000</td>\n",
       "      <td>4.546000e+03</td>\n",
       "      <td>4546.000000</td>\n",
       "      <td>4546.000000</td>\n",
       "      <td>4546.000000</td>\n",
       "      <td>4546.000000</td>\n",
       "    </tr>\n",
       "    <tr>\n",
       "      <th>mean</th>\n",
       "      <td>122.605147</td>\n",
       "      <td>38.884294</td>\n",
       "      <td>21736.701936</td>\n",
       "      <td>2.157501</td>\n",
       "      <td>1.623702e+09</td>\n",
       "      <td>0.014958</td>\n",
       "      <td>1.062253</td>\n",
       "      <td>0.566212</td>\n",
       "      <td>153.264848</td>\n",
       "    </tr>\n",
       "    <tr>\n",
       "      <th>std</th>\n",
       "      <td>116.006955</td>\n",
       "      <td>30.129333</td>\n",
       "      <td>24211.777711</td>\n",
       "      <td>9.797366</td>\n",
       "      <td>5.542652e+06</td>\n",
       "      <td>0.139922</td>\n",
       "      <td>4.303231</td>\n",
       "      <td>4.021903</td>\n",
       "      <td>141.355650</td>\n",
       "    </tr>\n",
       "    <tr>\n",
       "      <th>min</th>\n",
       "      <td>0.000000</td>\n",
       "      <td>1.000000</td>\n",
       "      <td>386.000000</td>\n",
       "      <td>0.000000</td>\n",
       "      <td>1.613035e+09</td>\n",
       "      <td>0.000000</td>\n",
       "      <td>0.000000</td>\n",
       "      <td>0.000000</td>\n",
       "      <td>12.000000</td>\n",
       "    </tr>\n",
       "    <tr>\n",
       "      <th>25%</th>\n",
       "      <td>46.000000</td>\n",
       "      <td>11.000000</td>\n",
       "      <td>6086.000000</td>\n",
       "      <td>1.000000</td>\n",
       "      <td>1.622717e+09</td>\n",
       "      <td>0.000000</td>\n",
       "      <td>0.000000</td>\n",
       "      <td>0.000000</td>\n",
       "      <td>100.000000</td>\n",
       "    </tr>\n",
       "    <tr>\n",
       "      <th>50%</th>\n",
       "      <td>92.000000</td>\n",
       "      <td>32.000000</td>\n",
       "      <td>14600.000000</td>\n",
       "      <td>1.000000</td>\n",
       "      <td>1.622718e+09</td>\n",
       "      <td>0.000000</td>\n",
       "      <td>0.000000</td>\n",
       "      <td>0.000000</td>\n",
       "      <td>100.000000</td>\n",
       "    </tr>\n",
       "    <tr>\n",
       "      <th>75%</th>\n",
       "      <td>154.000000</td>\n",
       "      <td>64.000000</td>\n",
       "      <td>33121.000000</td>\n",
       "      <td>1.000000</td>\n",
       "      <td>1.622718e+09</td>\n",
       "      <td>0.000000</td>\n",
       "      <td>0.000000</td>\n",
       "      <td>0.000000</td>\n",
       "      <td>100.000000</td>\n",
       "    </tr>\n",
       "    <tr>\n",
       "      <th>max</th>\n",
       "      <td>715.000000</td>\n",
       "      <td>100.000000</td>\n",
       "      <td>191775.000000</td>\n",
       "      <td>520.000000</td>\n",
       "      <td>1.665669e+09</td>\n",
       "      <td>3.000000</td>\n",
       "      <td>106.000000</td>\n",
       "      <td>122.000000</td>\n",
       "      <td>931.000000</td>\n",
       "    </tr>\n",
       "  </tbody>\n",
       "</table>\n",
       "</div>"
      ],
      "text/plain": [
       "                ID  RecipeNumber     RecipeCode  UserReputation  \\\n",
       "count  4546.000000   4546.000000    4546.000000     4546.000000   \n",
       "mean    122.605147     38.884294   21736.701936        2.157501   \n",
       "std     116.006955     30.129333   24211.777711        9.797366   \n",
       "min       0.000000      1.000000     386.000000        0.000000   \n",
       "25%      46.000000     11.000000    6086.000000        1.000000   \n",
       "50%      92.000000     32.000000   14600.000000        1.000000   \n",
       "75%     154.000000     64.000000   33121.000000        1.000000   \n",
       "max     715.000000    100.000000  191775.000000      520.000000   \n",
       "\n",
       "       CreationTimestamp   ReplyCount  ThumbsUpCount  ThumbsDownCount  \\\n",
       "count       4.546000e+03  4546.000000    4546.000000      4546.000000   \n",
       "mean        1.623702e+09     0.014958       1.062253         0.566212   \n",
       "std         5.542652e+06     0.139922       4.303231         4.021903   \n",
       "min         1.613035e+09     0.000000       0.000000         0.000000   \n",
       "25%         1.622717e+09     0.000000       0.000000         0.000000   \n",
       "50%         1.622718e+09     0.000000       0.000000         0.000000   \n",
       "75%         1.622718e+09     0.000000       0.000000         0.000000   \n",
       "max         1.665669e+09     3.000000     106.000000       122.000000   \n",
       "\n",
       "         BestScore  \n",
       "count  4546.000000  \n",
       "mean    153.264848  \n",
       "std     141.355650  \n",
       "min      12.000000  \n",
       "25%     100.000000  \n",
       "50%     100.000000  \n",
       "75%     100.000000  \n",
       "max     931.000000  "
      ]
     },
     "execution_count": 11,
     "metadata": {},
     "output_type": "execute_result"
    }
   ],
   "source": [
    "test_dataset.describe()"
   ]
  },
  {
   "cell_type": "markdown",
   "id": "b7fc0c2e",
   "metadata": {
    "papermill": {
     "duration": 0.029632,
     "end_time": "2024-08-16T12:53:50.160203",
     "exception": false,
     "start_time": "2024-08-16T12:53:50.130571",
     "status": "completed"
    },
    "tags": []
   },
   "source": [
    "**Correlation graph between 'RecipeNumber' and 'ThumbsUpCount'**\n",
    "* Here is a scatter plot between 'RecipeNumber' and 'ThumbsUpCount', with 'RecipeNumber' on the x-axis and 'ThumbsUpCount' on the y-axis. The scatter plot will also include histograms of the individual distributions along the axes."
   ]
  },
  {
   "cell_type": "code",
   "execution_count": 12,
   "id": "f08356c2",
   "metadata": {
    "execution": {
     "iopub.execute_input": "2024-08-16T12:53:50.223908Z",
     "iopub.status.busy": "2024-08-16T12:53:50.223467Z",
     "iopub.status.idle": "2024-08-16T12:53:51.238938Z",
     "shell.execute_reply": "2024-08-16T12:53:51.237503Z"
    },
    "papermill": {
     "duration": 1.050509,
     "end_time": "2024-08-16T12:53:51.241687",
     "exception": false,
     "start_time": "2024-08-16T12:53:50.191178",
     "status": "completed"
    },
    "tags": []
   },
   "outputs": [
    {
     "data": {
      "image/png": "[encoded data removed]",
      "text/plain": [
       "<Figure size 600x600 with 3 Axes>"
      ]
     },
     "metadata": {},
     "output_type": "display_data"
    }
   ],
   "source": [
    "import seaborn as sns\n",
    "from scipy.stats import pearsonr\n",
    "\n",
    "# Create a jointplot\n",
    "sns.jointplot(x='RecipeNumber', y='ThumbsUpCount', data=train_dataset, kind='scatter', color='skyblue')\n",
    "\n",
    "# Calculate the Pearson correlation coefficient\n",
    "corr_coefficient, _ = pearsonr(train_dataset['RecipeNumber'], train_dataset['ThumbsUpCount'])\n",
    "\n",
    "# Annotate the plot with the Pearson correlation coefficient\n",
    "plt.annotate(f'Pearson Correlation: {corr_coefficient:.2f}', xy=(0.5, 0.9), xycoords='axes fraction', ha='center', fontsize=12)\n",
    "\n",
    "# Show the plot\n",
    "plt.show()\n"
   ]
  },
  {
   "cell_type": "markdown",
   "id": "3b62779b",
   "metadata": {
    "papermill": {
     "duration": 0.030846,
     "end_time": "2024-08-16T12:53:51.303136",
     "exception": false,
     "start_time": "2024-08-16T12:53:51.272290",
     "status": "completed"
    },
    "tags": []
   },
   "source": [
    "**Correlation graph between 'RecipeNumber' and 'ThumbsDownCount'**\n",
    "* Here is a scatter plot between 'RecipeNumber' and 'ThumbsDownCount', with 'RecipeNumber' on the x-axis and 'ThumbsDownCount' on the y-axis. The scatter plot will also include histograms of the individual distributions along the axes."
   ]
  },
  {
   "cell_type": "code",
   "execution_count": 13,
   "id": "f18e419b",
   "metadata": {
    "execution": {
     "iopub.execute_input": "2024-08-16T12:53:51.365744Z",
     "iopub.status.busy": "2024-08-16T12:53:51.365304Z",
     "iopub.status.idle": "2024-08-16T12:53:52.185528Z",
     "shell.execute_reply": "2024-08-16T12:53:52.184065Z"
    },
    "papermill": {
     "duration": 0.855862,
     "end_time": "2024-08-16T12:53:52.189489",
     "exception": false,
     "start_time": "2024-08-16T12:53:51.333627",
     "status": "completed"
    },
    "tags": []
   },
   "outputs": [
    {
     "data": {
      "image/png": "[encoded data removed]",
      "text/plain": [
       "<Figure size 600x600 with 3 Axes>"
      ]
     },
     "metadata": {},
     "output_type": "display_data"
    }
   ],
   "source": [
    "import seaborn as sns\n",
    "from scipy.stats import pearsonr\n",
    "\n",
    "# Create a jointplot\n",
    "sns.jointplot(x='RecipeNumber', y='ThumbsDownCount', data=train_dataset, kind='scatter', color='skyblue')\n",
    "\n",
    "# Calculate the Pearson correlation coefficient\n",
    "corr_coefficient, _ = pearsonr(train_dataset['RecipeNumber'], train_dataset['ThumbsDownCount'])\n",
    "\n",
    "# Annotate the plot with the Pearson correlation coefficient\n",
    "plt.annotate(f'Pearson Correlation: {corr_coefficient:.2f}', xy=(0.5, 0.9), xycoords='axes fraction', ha='center', fontsize=12)\n",
    "\n",
    "# Show the plot\n",
    "plt.show()\n"
   ]
  },
  {
   "cell_type": "code",
   "execution_count": 14,
   "id": "9344d0f5",
   "metadata": {
    "execution": {
     "iopub.execute_input": "2024-08-16T12:53:52.255871Z",
     "iopub.status.busy": "2024-08-16T12:53:52.255327Z",
     "iopub.status.idle": "2024-08-16T12:53:52.285162Z",
     "shell.execute_reply": "2024-08-16T12:53:52.283450Z"
    },
    "papermill": {
     "duration": 0.066223,
     "end_time": "2024-08-16T12:53:52.287982",
     "exception": false,
     "start_time": "2024-08-16T12:53:52.221759",
     "status": "completed"
    },
    "tags": []
   },
   "outputs": [
    {
     "name": "stdout",
     "output_type": "stream",
     "text": [
      "<class 'pandas.core.frame.DataFrame'>\n",
      "RangeIndex: 13636 entries, 0 to 13635\n",
      "Data columns (total 15 columns):\n",
      " #   Column             Non-Null Count  Dtype \n",
      "---  ------             --------------  ----- \n",
      " 0   ID                 13636 non-null  int64 \n",
      " 1   RecipeNumber       13636 non-null  int64 \n",
      " 2   RecipeCode         13636 non-null  int64 \n",
      " 3   RecipeName         13636 non-null  object\n",
      " 4   CommentID          13636 non-null  object\n",
      " 5   UserID             13636 non-null  object\n",
      " 6   UserName           13636 non-null  object\n",
      " 7   UserReputation     13636 non-null  int64 \n",
      " 8   CreationTimestamp  13636 non-null  int64 \n",
      " 9   ReplyCount         13636 non-null  int64 \n",
      " 10  ThumbsUpCount      13636 non-null  int64 \n",
      " 11  ThumbsDownCount    13636 non-null  int64 \n",
      " 12  Rating             13636 non-null  int64 \n",
      " 13  BestScore          13636 non-null  int64 \n",
      " 14  Recipe_Review      13634 non-null  object\n",
      "dtypes: int64(10), object(5)\n",
      "memory usage: 1.6+ MB\n"
     ]
    }
   ],
   "source": [
    "train_dataset.info()"
   ]
  },
  {
   "cell_type": "code",
   "execution_count": 15,
   "id": "e594ba7e",
   "metadata": {
    "execution": {
     "iopub.execute_input": "2024-08-16T12:53:52.353178Z",
     "iopub.status.busy": "2024-08-16T12:53:52.352740Z",
     "iopub.status.idle": "2024-08-16T12:53:52.369585Z",
     "shell.execute_reply": "2024-08-16T12:53:52.368408Z"
    },
    "papermill": {
     "duration": 0.052922,
     "end_time": "2024-08-16T12:53:52.372646",
     "exception": false,
     "start_time": "2024-08-16T12:53:52.319724",
     "status": "completed"
    },
    "tags": []
   },
   "outputs": [
    {
     "name": "stdout",
     "output_type": "stream",
     "text": [
      "<class 'pandas.core.frame.DataFrame'>\n",
      "RangeIndex: 4546 entries, 0 to 4545\n",
      "Data columns (total 14 columns):\n",
      " #   Column             Non-Null Count  Dtype \n",
      "---  ------             --------------  ----- \n",
      " 0   ID                 4546 non-null   int64 \n",
      " 1   RecipeNumber       4546 non-null   int64 \n",
      " 2   RecipeCode         4546 non-null   int64 \n",
      " 3   RecipeName         4546 non-null   object\n",
      " 4   CommentID          4546 non-null   object\n",
      " 5   UserID             4546 non-null   object\n",
      " 6   UserName           4546 non-null   object\n",
      " 7   UserReputation     4546 non-null   int64 \n",
      " 8   CreationTimestamp  4546 non-null   int64 \n",
      " 9   ReplyCount         4546 non-null   int64 \n",
      " 10  ThumbsUpCount      4546 non-null   int64 \n",
      " 11  ThumbsDownCount    4546 non-null   int64 \n",
      " 12  BestScore          4546 non-null   int64 \n",
      " 13  Recipe_Review      4546 non-null   object\n",
      "dtypes: int64(9), object(5)\n",
      "memory usage: 497.3+ KB\n"
     ]
    }
   ],
   "source": [
    "test_dataset.info()"
   ]
  },
  {
   "cell_type": "markdown",
   "id": "95d6efb1",
   "metadata": {
    "papermill": {
     "duration": 0.0329,
     "end_time": "2024-08-16T12:53:52.437645",
     "exception": false,
     "start_time": "2024-08-16T12:53:52.404745",
     "status": "completed"
    },
    "tags": []
   },
   "source": [
    "# **Feature engineering/extraction**"
   ]
  },
  {
   "cell_type": "code",
   "execution_count": 16,
   "id": "74eff296",
   "metadata": {
    "execution": {
     "iopub.execute_input": "2024-08-16T12:53:52.503079Z",
     "iopub.status.busy": "2024-08-16T12:53:52.502206Z",
     "iopub.status.idle": "2024-08-16T12:53:52.521731Z",
     "shell.execute_reply": "2024-08-16T12:53:52.520582Z"
    },
    "papermill": {
     "duration": 0.055407,
     "end_time": "2024-08-16T12:53:52.524504",
     "exception": false,
     "start_time": "2024-08-16T12:53:52.469097",
     "status": "completed"
    },
    "tags": []
   },
   "outputs": [
    {
     "data": {
      "text/plain": [
       "ID                   False\n",
       "RecipeNumber         False\n",
       "RecipeCode           False\n",
       "RecipeName           False\n",
       "CommentID            False\n",
       "UserID               False\n",
       "UserName             False\n",
       "UserReputation       False\n",
       "CreationTimestamp    False\n",
       "ReplyCount           False\n",
       "ThumbsUpCount        False\n",
       "ThumbsDownCount      False\n",
       "Rating               False\n",
       "BestScore            False\n",
       "Recipe_Review         True\n",
       "dtype: bool"
      ]
     },
     "execution_count": 16,
     "metadata": {},
     "output_type": "execute_result"
    }
   ],
   "source": [
    "train_dataset.isna().any()"
   ]
  },
  {
   "cell_type": "code",
   "execution_count": 17,
   "id": "c7295768",
   "metadata": {
    "execution": {
     "iopub.execute_input": "2024-08-16T12:53:52.589655Z",
     "iopub.status.busy": "2024-08-16T12:53:52.589247Z",
     "iopub.status.idle": "2024-08-16T12:53:52.608347Z",
     "shell.execute_reply": "2024-08-16T12:53:52.607060Z"
    },
    "papermill": {
     "duration": 0.055012,
     "end_time": "2024-08-16T12:53:52.611156",
     "exception": false,
     "start_time": "2024-08-16T12:53:52.556144",
     "status": "completed"
    },
    "tags": []
   },
   "outputs": [
    {
     "data": {
      "text/plain": [
       "ID                   0\n",
       "RecipeNumber         0\n",
       "RecipeCode           0\n",
       "RecipeName           0\n",
       "CommentID            0\n",
       "UserID               0\n",
       "UserName             0\n",
       "UserReputation       0\n",
       "CreationTimestamp    0\n",
       "ReplyCount           0\n",
       "ThumbsUpCount        0\n",
       "ThumbsDownCount      0\n",
       "Rating               0\n",
       "BestScore            0\n",
       "Recipe_Review        2\n",
       "dtype: int64"
      ]
     },
     "execution_count": 17,
     "metadata": {},
     "output_type": "execute_result"
    }
   ],
   "source": [
    "train_dataset.isna().sum()"
   ]
  },
  {
   "cell_type": "markdown",
   "id": "ac02a071",
   "metadata": {
    "papermill": {
     "duration": 0.031395,
     "end_time": "2024-08-16T12:53:52.674357",
     "exception": false,
     "start_time": "2024-08-16T12:53:52.642962",
     "status": "completed"
    },
    "tags": []
   },
   "source": [
    "Here we assume that there is a direct mapping between Rating and Recipe_Review, and therefore we fill the empty Recipe_Review fields with the Review sentiments mapped to ratings in the rating_mapping dictionary."
   ]
  },
  {
   "cell_type": "code",
   "execution_count": 18,
   "id": "641a9ea4",
   "metadata": {
    "execution": {
     "iopub.execute_input": "2024-08-16T12:53:52.739174Z",
     "iopub.status.busy": "2024-08-16T12:53:52.738731Z",
     "iopub.status.idle": "2024-08-16T12:53:52.771144Z",
     "shell.execute_reply": "2024-08-16T12:53:52.769930Z"
    },
    "papermill": {
     "duration": 0.068057,
     "end_time": "2024-08-16T12:53:52.773903",
     "exception": false,
     "start_time": "2024-08-16T12:53:52.705846",
     "status": "completed"
    },
    "tags": []
   },
   "outputs": [
    {
     "data": {
      "text/html": [
       "<div>\n",
       "<style scoped>\n",
       "    .dataframe tbody tr th:only-of-type {\n",
       "        vertical-align: middle;\n",
       "    }\n",
       "\n",
       "    .dataframe tbody tr th {\n",
       "        vertical-align: top;\n",
       "    }\n",
       "\n",
       "    .dataframe thead th {\n",
       "        text-align: right;\n",
       "    }\n",
       "</style>\n",
       "<table border=\"1\" class=\"dataframe\">\n",
       "  <thead>\n",
       "    <tr style=\"text-align: right;\">\n",
       "      <th></th>\n",
       "      <th>ID</th>\n",
       "      <th>RecipeNumber</th>\n",
       "      <th>RecipeCode</th>\n",
       "      <th>RecipeName</th>\n",
       "      <th>CommentID</th>\n",
       "      <th>UserID</th>\n",
       "      <th>UserName</th>\n",
       "      <th>UserReputation</th>\n",
       "      <th>CreationTimestamp</th>\n",
       "      <th>ReplyCount</th>\n",
       "      <th>ThumbsUpCount</th>\n",
       "      <th>ThumbsDownCount</th>\n",
       "      <th>Rating</th>\n",
       "      <th>BestScore</th>\n",
       "      <th>Recipe_Review</th>\n",
       "    </tr>\n",
       "  </thead>\n",
       "  <tbody>\n",
       "    <tr>\n",
       "      <th>0</th>\n",
       "      <td>70</td>\n",
       "      <td>71</td>\n",
       "      <td>12259</td>\n",
       "      <td>Banana Bars with Cream Cheese Frosting</td>\n",
       "      <td>sp_aUSaElGf_12259_c_149978</td>\n",
       "      <td>u_1oKVaBmiEKwAFyiHrDLoWpbel0J</td>\n",
       "      <td>misscoffeepot</td>\n",
       "      <td>20</td>\n",
       "      <td>1622717078</td>\n",
       "      <td>0</td>\n",
       "      <td>0</td>\n",
       "      <td>0</td>\n",
       "      <td>5</td>\n",
       "      <td>100</td>\n",
       "      <td>great recipe! I have made them just as written...</td>\n",
       "    </tr>\n",
       "    <tr>\n",
       "      <th>1</th>\n",
       "      <td>72</td>\n",
       "      <td>88</td>\n",
       "      <td>8202</td>\n",
       "      <td>Simple Taco Soup</td>\n",
       "      <td>sp_aUSaElGf_8202_c_310332</td>\n",
       "      <td>u_1oKZeRIXYzGNhGW8OMR3O4lX1ih</td>\n",
       "      <td>MichelleMalone</td>\n",
       "      <td>1</td>\n",
       "      <td>1622717852</td>\n",
       "      <td>0</td>\n",
       "      <td>0</td>\n",
       "      <td>1</td>\n",
       "      <td>5</td>\n",
       "      <td>100</td>\n",
       "      <td>This is an easy and quick recipe that is great...</td>\n",
       "    </tr>\n",
       "    <tr>\n",
       "      <th>2</th>\n",
       "      <td>458</td>\n",
       "      <td>3</td>\n",
       "      <td>2832</td>\n",
       "      <td>Cheeseburger Soup</td>\n",
       "      <td>sp_aUSaElGf_2832_c_206522</td>\n",
       "      <td>u_1oKYHUtdaD48KJCDYq5wfpAUxWz</td>\n",
       "      <td>jeannem32</td>\n",
       "      <td>1</td>\n",
       "      <td>1622717357</td>\n",
       "      <td>0</td>\n",
       "      <td>0</td>\n",
       "      <td>0</td>\n",
       "      <td>3</td>\n",
       "      <td>100</td>\n",
       "      <td>I think I was looking for something extra spec...</td>\n",
       "    </tr>\n",
       "    <tr>\n",
       "      <th>3</th>\n",
       "      <td>7</td>\n",
       "      <td>50</td>\n",
       "      <td>100276</td>\n",
       "      <td>Grilled Huli Huli Chicken</td>\n",
       "      <td>sp_aUSaElGf_100276_c_434088</td>\n",
       "      <td>u_1oKZCQcKQZdQhDVBS7oISc216VA</td>\n",
       "      <td>ds422</td>\n",
       "      <td>1</td>\n",
       "      <td>1622648899</td>\n",
       "      <td>0</td>\n",
       "      <td>0</td>\n",
       "      <td>0</td>\n",
       "      <td>5</td>\n",
       "      <td>100</td>\n",
       "      <td>This is our favorite grilled chicken recipe.  ...</td>\n",
       "    </tr>\n",
       "    <tr>\n",
       "      <th>4</th>\n",
       "      <td>60</td>\n",
       "      <td>12</td>\n",
       "      <td>19731</td>\n",
       "      <td>Cauliflower Soup</td>\n",
       "      <td>sp_aUSaElGf_19731_c_387011</td>\n",
       "      <td>u_1oKd4sudZQPgu6YALiC7bW7mKMs</td>\n",
       "      <td>SusanHoward</td>\n",
       "      <td>1</td>\n",
       "      <td>1622718260</td>\n",
       "      <td>0</td>\n",
       "      <td>0</td>\n",
       "      <td>0</td>\n",
       "      <td>4</td>\n",
       "      <td>100</td>\n",
       "      <td>Great basic recipe. I added 2 teaspoons Tuscan...</td>\n",
       "    </tr>\n",
       "    <tr>\n",
       "      <th>...</th>\n",
       "      <td>...</td>\n",
       "      <td>...</td>\n",
       "      <td>...</td>\n",
       "      <td>...</td>\n",
       "      <td>...</td>\n",
       "      <td>...</td>\n",
       "      <td>...</td>\n",
       "      <td>...</td>\n",
       "      <td>...</td>\n",
       "      <td>...</td>\n",
       "      <td>...</td>\n",
       "      <td>...</td>\n",
       "      <td>...</td>\n",
       "      <td>...</td>\n",
       "      <td>...</td>\n",
       "    </tr>\n",
       "    <tr>\n",
       "      <th>13631</th>\n",
       "      <td>115</td>\n",
       "      <td>98</td>\n",
       "      <td>11767</td>\n",
       "      <td>Quick Cream of Mushroom Soup</td>\n",
       "      <td>sp_aUSaElGf_11767_c_127710</td>\n",
       "      <td>u_1oKVbHjirkAIWwTjbt9dWyqENo2</td>\n",
       "      <td>elbay</td>\n",
       "      <td>1</td>\n",
       "      <td>1622716969</td>\n",
       "      <td>0</td>\n",
       "      <td>0</td>\n",
       "      <td>0</td>\n",
       "      <td>5</td>\n",
       "      <td>100</td>\n",
       "      <td>Delicious!! Very easy to make! One minor chang...</td>\n",
       "    </tr>\n",
       "    <tr>\n",
       "      <th>13632</th>\n",
       "      <td>372</td>\n",
       "      <td>6</td>\n",
       "      <td>21444</td>\n",
       "      <td>Favorite Chicken Potpie</td>\n",
       "      <td>sp_aUSaElGf_21444_c_196030</td>\n",
       "      <td>u_1oKXoBnyJ2ocquNYwAhs19LMSrA</td>\n",
       "      <td>PauletteInhofe</td>\n",
       "      <td>1</td>\n",
       "      <td>1622717329</td>\n",
       "      <td>0</td>\n",
       "      <td>0</td>\n",
       "      <td>0</td>\n",
       "      <td>5</td>\n",
       "      <td>100</td>\n",
       "      <td>I made this pie for my family and they loved i...</td>\n",
       "    </tr>\n",
       "    <tr>\n",
       "      <th>13633</th>\n",
       "      <td>87</td>\n",
       "      <td>37</td>\n",
       "      <td>20170</td>\n",
       "      <td>Taco Lasagna</td>\n",
       "      <td>sp_aUSaElGf_20170_c_359338</td>\n",
       "      <td>u_1oKbGr5o9tj0mQl1rkVqzWnE481</td>\n",
       "      <td>Barbaralarkin</td>\n",
       "      <td>1</td>\n",
       "      <td>1622718089</td>\n",
       "      <td>0</td>\n",
       "      <td>0</td>\n",
       "      <td>0</td>\n",
       "      <td>5</td>\n",
       "      <td>100</td>\n",
       "      <td>Very tasty!</td>\n",
       "    </tr>\n",
       "    <tr>\n",
       "      <th>13634</th>\n",
       "      <td>48</td>\n",
       "      <td>63</td>\n",
       "      <td>24886</td>\n",
       "      <td>Chicken and Dumplings</td>\n",
       "      <td>sp_aUSaElGf_24886_c_175514</td>\n",
       "      <td>u_1oKWD7Dqjmc0oYHdW8Vm3fzhxJW</td>\n",
       "      <td>SammyPrissy</td>\n",
       "      <td>1</td>\n",
       "      <td>1622717192</td>\n",
       "      <td>0</td>\n",
       "      <td>0</td>\n",
       "      <td>0</td>\n",
       "      <td>5</td>\n",
       "      <td>100</td>\n",
       "      <td>I have made this numerous times.  It&amp;#39;s so ...</td>\n",
       "    </tr>\n",
       "    <tr>\n",
       "      <th>13635</th>\n",
       "      <td>379</td>\n",
       "      <td>3</td>\n",
       "      <td>2832</td>\n",
       "      <td>Cheeseburger Soup</td>\n",
       "      <td>sp_aUSaElGf_2832_c_278956</td>\n",
       "      <td>u_1oKYPsERQ0GvUcjIsuAxzmnsQGW</td>\n",
       "      <td>morgantowndan</td>\n",
       "      <td>1</td>\n",
       "      <td>1622717703</td>\n",
       "      <td>0</td>\n",
       "      <td>0</td>\n",
       "      <td>0</td>\n",
       "      <td>5</td>\n",
       "      <td>100</td>\n",
       "      <td>Super. I added 1/2 lb chopped bacon to mine. H...</td>\n",
       "    </tr>\n",
       "  </tbody>\n",
       "</table>\n",
       "<p>13636 rows × 15 columns</p>\n",
       "</div>"
      ],
      "text/plain": [
       "        ID  RecipeNumber  RecipeCode                              RecipeName  \\\n",
       "0       70            71       12259  Banana Bars with Cream Cheese Frosting   \n",
       "1       72            88        8202                        Simple Taco Soup   \n",
       "2      458             3        2832                       Cheeseburger Soup   \n",
       "3        7            50      100276               Grilled Huli Huli Chicken   \n",
       "4       60            12       19731                        Cauliflower Soup   \n",
       "...    ...           ...         ...                                     ...   \n",
       "13631  115            98       11767            Quick Cream of Mushroom Soup   \n",
       "13632  372             6       21444                 Favorite Chicken Potpie   \n",
       "13633   87            37       20170                            Taco Lasagna   \n",
       "13634   48            63       24886                   Chicken and Dumplings   \n",
       "13635  379             3        2832                       Cheeseburger Soup   \n",
       "\n",
       "                         CommentID                         UserID  \\\n",
       "0       sp_aUSaElGf_12259_c_149978  u_1oKVaBmiEKwAFyiHrDLoWpbel0J   \n",
       "1        sp_aUSaElGf_8202_c_310332  u_1oKZeRIXYzGNhGW8OMR3O4lX1ih   \n",
       "2        sp_aUSaElGf_2832_c_206522  u_1oKYHUtdaD48KJCDYq5wfpAUxWz   \n",
       "3      sp_aUSaElGf_100276_c_434088  u_1oKZCQcKQZdQhDVBS7oISc216VA   \n",
       "4       sp_aUSaElGf_19731_c_387011  u_1oKd4sudZQPgu6YALiC7bW7mKMs   \n",
       "...                            ...                            ...   \n",
       "13631   sp_aUSaElGf_11767_c_127710  u_1oKVbHjirkAIWwTjbt9dWyqENo2   \n",
       "13632   sp_aUSaElGf_21444_c_196030  u_1oKXoBnyJ2ocquNYwAhs19LMSrA   \n",
       "13633   sp_aUSaElGf_20170_c_359338  u_1oKbGr5o9tj0mQl1rkVqzWnE481   \n",
       "13634   sp_aUSaElGf_24886_c_175514  u_1oKWD7Dqjmc0oYHdW8Vm3fzhxJW   \n",
       "13635    sp_aUSaElGf_2832_c_278956  u_1oKYPsERQ0GvUcjIsuAxzmnsQGW   \n",
       "\n",
       "             UserName  UserReputation  CreationTimestamp  ReplyCount  \\\n",
       "0       misscoffeepot              20         1622717078           0   \n",
       "1      MichelleMalone               1         1622717852           0   \n",
       "2           jeannem32               1         1622717357           0   \n",
       "3               ds422               1         1622648899           0   \n",
       "4         SusanHoward               1         1622718260           0   \n",
       "...               ...             ...                ...         ...   \n",
       "13631           elbay               1         1622716969           0   \n",
       "13632  PauletteInhofe               1         1622717329           0   \n",
       "13633   Barbaralarkin               1         1622718089           0   \n",
       "13634     SammyPrissy               1         1622717192           0   \n",
       "13635   morgantowndan               1         1622717703           0   \n",
       "\n",
       "       ThumbsUpCount  ThumbsDownCount  Rating  BestScore  \\\n",
       "0                  0                0       5        100   \n",
       "1                  0                1       5        100   \n",
       "2                  0                0       3        100   \n",
       "3                  0                0       5        100   \n",
       "4                  0                0       4        100   \n",
       "...              ...              ...     ...        ...   \n",
       "13631              0                0       5        100   \n",
       "13632              0                0       5        100   \n",
       "13633              0                0       5        100   \n",
       "13634              0                0       5        100   \n",
       "13635              0                0       5        100   \n",
       "\n",
       "                                           Recipe_Review  \n",
       "0      great recipe! I have made them just as written...  \n",
       "1      This is an easy and quick recipe that is great...  \n",
       "2      I think I was looking for something extra spec...  \n",
       "3      This is our favorite grilled chicken recipe.  ...  \n",
       "4      Great basic recipe. I added 2 teaspoons Tuscan...  \n",
       "...                                                  ...  \n",
       "13631  Delicious!! Very easy to make! One minor chang...  \n",
       "13632  I made this pie for my family and they loved i...  \n",
       "13633                                        Very tasty!  \n",
       "13634  I have made this numerous times.  It&#39;s so ...  \n",
       "13635  Super. I added 1/2 lb chopped bacon to mine. H...  \n",
       "\n",
       "[13636 rows x 15 columns]"
      ]
     },
     "execution_count": 18,
     "metadata": {},
     "output_type": "execute_result"
    }
   ],
   "source": [
    "def fill_null_reviews(train_dataset):\n",
    "\n",
    "  rating_mapping = {5: 'GREAT',4:'GOOD',2:'BORING',0:'VERY BAD', 1: 'BAD', 3: 'OK'}\n",
    "  train_dataset.loc[train_dataset['Recipe_Review'].isna(), 'Recipe_Review'] = train_dataset['Rating'].map(rating_mapping)\n",
    "  return train_dataset\n",
    "\n",
    "fill_null_reviews(train_dataset)"
   ]
  },
  {
   "cell_type": "code",
   "execution_count": 19,
   "id": "a8ba26e5",
   "metadata": {
    "execution": {
     "iopub.execute_input": "2024-08-16T12:53:52.841215Z",
     "iopub.status.busy": "2024-08-16T12:53:52.840781Z",
     "iopub.status.idle": "2024-08-16T12:53:52.858948Z",
     "shell.execute_reply": "2024-08-16T12:53:52.857689Z"
    },
    "papermill": {
     "duration": 0.055554,
     "end_time": "2024-08-16T12:53:52.861776",
     "exception": false,
     "start_time": "2024-08-16T12:53:52.806222",
     "status": "completed"
    },
    "tags": []
   },
   "outputs": [
    {
     "data": {
      "text/plain": [
       "ID                   0\n",
       "RecipeNumber         0\n",
       "RecipeCode           0\n",
       "RecipeName           0\n",
       "CommentID            0\n",
       "UserID               0\n",
       "UserName             0\n",
       "UserReputation       0\n",
       "CreationTimestamp    0\n",
       "ReplyCount           0\n",
       "ThumbsUpCount        0\n",
       "ThumbsDownCount      0\n",
       "Rating               0\n",
       "BestScore            0\n",
       "Recipe_Review        0\n",
       "dtype: int64"
      ]
     },
     "execution_count": 19,
     "metadata": {},
     "output_type": "execute_result"
    }
   ],
   "source": [
    "train_dataset.isna().sum()"
   ]
  },
  {
   "cell_type": "code",
   "execution_count": 20,
   "id": "b5369acf",
   "metadata": {
    "execution": {
     "iopub.execute_input": "2024-08-16T12:53:52.929184Z",
     "iopub.status.busy": "2024-08-16T12:53:52.928745Z",
     "iopub.status.idle": "2024-08-16T12:53:52.940952Z",
     "shell.execute_reply": "2024-08-16T12:53:52.939845Z"
    },
    "papermill": {
     "duration": 0.04925,
     "end_time": "2024-08-16T12:53:52.943685",
     "exception": false,
     "start_time": "2024-08-16T12:53:52.894435",
     "status": "completed"
    },
    "tags": []
   },
   "outputs": [
    {
     "data": {
      "text/plain": [
       "ID                   0\n",
       "RecipeNumber         0\n",
       "RecipeCode           0\n",
       "RecipeName           0\n",
       "CommentID            0\n",
       "UserID               0\n",
       "UserName             0\n",
       "UserReputation       0\n",
       "CreationTimestamp    0\n",
       "ReplyCount           0\n",
       "ThumbsUpCount        0\n",
       "ThumbsDownCount      0\n",
       "BestScore            0\n",
       "Recipe_Review        0\n",
       "dtype: int64"
      ]
     },
     "execution_count": 20,
     "metadata": {},
     "output_type": "execute_result"
    }
   ],
   "source": [
    "test_dataset.isna().sum()"
   ]
  },
  {
   "cell_type": "code",
   "execution_count": 21,
   "id": "13d65609",
   "metadata": {
    "execution": {
     "iopub.execute_input": "2024-08-16T12:53:53.012813Z",
     "iopub.status.busy": "2024-08-16T12:53:53.012383Z",
     "iopub.status.idle": "2024-08-16T12:53:53.049037Z",
     "shell.execute_reply": "2024-08-16T12:53:53.047687Z"
    },
    "papermill": {
     "duration": 0.074291,
     "end_time": "2024-08-16T12:53:53.051868",
     "exception": false,
     "start_time": "2024-08-16T12:53:52.977577",
     "status": "completed"
    },
    "tags": []
   },
   "outputs": [
    {
     "data": {
      "text/plain": [
       "ID                   0\n",
       "RecipeNumber         0\n",
       "RecipeCode           0\n",
       "RecipeName           0\n",
       "CommentID            0\n",
       "UserID               0\n",
       "UserName             0\n",
       "UserReputation       0\n",
       "CreationTimestamp    0\n",
       "ReplyCount           0\n",
       "ThumbsUpCount        0\n",
       "ThumbsDownCount      0\n",
       "Rating               0\n",
       "BestScore            0\n",
       "Recipe_Review        0\n",
       "dtype: int64"
      ]
     },
     "execution_count": 21,
     "metadata": {},
     "output_type": "execute_result"
    }
   ],
   "source": [
    "train_dataset.isin(['?']).sum()"
   ]
  },
  {
   "cell_type": "code",
   "execution_count": 22,
   "id": "a4e6af26",
   "metadata": {
    "execution": {
     "iopub.execute_input": "2024-08-16T12:53:53.120146Z",
     "iopub.status.busy": "2024-08-16T12:53:53.119668Z",
     "iopub.status.idle": "2024-08-16T12:53:53.138593Z",
     "shell.execute_reply": "2024-08-16T12:53:53.137323Z"
    },
    "papermill": {
     "duration": 0.056235,
     "end_time": "2024-08-16T12:53:53.141531",
     "exception": false,
     "start_time": "2024-08-16T12:53:53.085296",
     "status": "completed"
    },
    "tags": []
   },
   "outputs": [
    {
     "data": {
      "text/plain": [
       "ID                   0\n",
       "RecipeNumber         0\n",
       "RecipeCode           0\n",
       "RecipeName           0\n",
       "CommentID            0\n",
       "UserID               0\n",
       "UserName             0\n",
       "UserReputation       0\n",
       "CreationTimestamp    0\n",
       "ReplyCount           0\n",
       "ThumbsUpCount        0\n",
       "ThumbsDownCount      0\n",
       "BestScore            0\n",
       "Recipe_Review        0\n",
       "dtype: int64"
      ]
     },
     "execution_count": 22,
     "metadata": {},
     "output_type": "execute_result"
    }
   ],
   "source": [
    "test_dataset.isin(['?']).sum()"
   ]
  },
  {
   "cell_type": "code",
   "execution_count": 23,
   "id": "604a3ae9",
   "metadata": {
    "execution": {
     "iopub.execute_input": "2024-08-16T12:53:53.211114Z",
     "iopub.status.busy": "2024-08-16T12:53:53.210646Z",
     "iopub.status.idle": "2024-08-16T12:53:53.220497Z",
     "shell.execute_reply": "2024-08-16T12:53:53.219170Z"
    },
    "papermill": {
     "duration": 0.048206,
     "end_time": "2024-08-16T12:53:53.223243",
     "exception": false,
     "start_time": "2024-08-16T12:53:53.175037",
     "status": "completed"
    },
    "tags": []
   },
   "outputs": [
    {
     "data": {
      "text/plain": [
       "UserReputation\n",
       "1      12708\n",
       "10       478\n",
       "20       217\n",
       "0        118\n",
       "30        54\n",
       "50        16\n",
       "40        12\n",
       "90         7\n",
       "80         4\n",
       "60         4\n",
       "110        3\n",
       "510        3\n",
       "100        3\n",
       "140        2\n",
       "70         2\n",
       "220        1\n",
       "160        1\n",
       "130        1\n",
       "150        1\n",
       "300        1\n",
       "Name: count, dtype: int64"
      ]
     },
     "execution_count": 23,
     "metadata": {},
     "output_type": "execute_result"
    }
   ],
   "source": [
    "train_dataset['UserReputation'].value_counts()"
   ]
  },
  {
   "cell_type": "markdown",
   "id": "f1acca90",
   "metadata": {
    "papermill": {
     "duration": 0.034458,
     "end_time": "2024-08-16T12:53:53.291694",
     "exception": false,
     "start_time": "2024-08-16T12:53:53.257236",
     "status": "completed"
    },
    "tags": []
   },
   "source": [
    "From the box plot we can see that most of the users have a UserReputation around 0-100."
   ]
  },
  {
   "cell_type": "code",
   "execution_count": 24,
   "id": "c6e9b64d",
   "metadata": {
    "execution": {
     "iopub.execute_input": "2024-08-16T12:53:53.361542Z",
     "iopub.status.busy": "2024-08-16T12:53:53.361104Z",
     "iopub.status.idle": "2024-08-16T12:53:53.552713Z",
     "shell.execute_reply": "2024-08-16T12:53:53.551098Z"
    },
    "papermill": {
     "duration": 0.231395,
     "end_time": "2024-08-16T12:53:53.556420",
     "exception": false,
     "start_time": "2024-08-16T12:53:53.325025",
     "status": "completed"
    },
    "tags": []
   },
   "outputs": [
    {
     "data": {
      "image/png": "[encoded data removed]",
      "text/plain": [
       "<Figure size 1200x500 with 1 Axes>"
      ]
     },
     "metadata": {},
     "output_type": "display_data"
    }
   ],
   "source": [
    "plt.figure(figsize=(12,5))\n",
    "sns.boxplot(x='UserReputation', data=train_dataset)\n",
    "plt.xlabel('User Reputation')\n",
    "plt.ylabel('count')\n",
    "plt.title('Box plot of User Reputation')\n",
    "plt.show()"
   ]
  },
  {
   "cell_type": "code",
   "execution_count": 25,
   "id": "04edcd1d",
   "metadata": {
    "execution": {
     "iopub.execute_input": "2024-08-16T12:53:53.628725Z",
     "iopub.status.busy": "2024-08-16T12:53:53.628240Z",
     "iopub.status.idle": "2024-08-16T12:53:53.640908Z",
     "shell.execute_reply": "2024-08-16T12:53:53.639388Z"
    },
    "papermill": {
     "duration": 0.052992,
     "end_time": "2024-08-16T12:53:53.644396",
     "exception": false,
     "start_time": "2024-08-16T12:53:53.591404",
     "status": "completed"
    },
    "tags": []
   },
   "outputs": [
    {
     "data": {
      "text/plain": [
       "Rating\n",
       "5    10371\n",
       "0     1272\n",
       "4     1241\n",
       "3      368\n",
       "1      210\n",
       "2      174\n",
       "Name: count, dtype: int64"
      ]
     },
     "execution_count": 25,
     "metadata": {},
     "output_type": "execute_result"
    }
   ],
   "source": [
    "train_dataset['Rating'].value_counts()"
   ]
  },
  {
   "cell_type": "markdown",
   "id": "28f54b67",
   "metadata": {
    "papermill": {
     "duration": 0.034141,
     "end_time": "2024-08-16T12:53:53.713285",
     "exception": false,
     "start_time": "2024-08-16T12:53:53.679144",
     "status": "completed"
    },
    "tags": []
   },
   "source": [
    "From the bar graph we can see that most recipes (10371 recipes) have received a Rating of 5, followed by 0 and then 4."
   ]
  },
  {
   "cell_type": "code",
   "execution_count": 26,
   "id": "24a79b46",
   "metadata": {
    "execution": {
     "iopub.execute_input": "2024-08-16T12:53:53.787631Z",
     "iopub.status.busy": "2024-08-16T12:53:53.787164Z",
     "iopub.status.idle": "2024-08-16T12:53:54.043027Z",
     "shell.execute_reply": "2024-08-16T12:53:54.041841Z"
    },
    "papermill": {
     "duration": 0.297234,
     "end_time": "2024-08-16T12:53:54.045744",
     "exception": false,
     "start_time": "2024-08-16T12:53:53.748510",
     "status": "completed"
    },
    "tags": []
   },
   "outputs": [
    {
     "data": {
      "image/png": "[encoded data removed]",
      "text/plain": [
       "<Figure size 1200x500 with 1 Axes>"
      ]
     },
     "metadata": {},
     "output_type": "display_data"
    }
   ],
   "source": [
    "plt.figure(figsize=(12, 5))\n",
    "sns.countplot(x='Rating', data=train_dataset, palette='coolwarm')\n",
    "plt.xlabel('Rating')\n",
    "plt.ylabel('Count')\n",
    "plt.title('Distribution of Ratings')\n",
    "plt.show()"
   ]
  },
  {
   "cell_type": "code",
   "execution_count": 27,
   "id": "b5089d41",
   "metadata": {
    "execution": {
     "iopub.execute_input": "2024-08-16T12:53:54.121383Z",
     "iopub.status.busy": "2024-08-16T12:53:54.120933Z",
     "iopub.status.idle": "2024-08-16T12:53:54.134576Z",
     "shell.execute_reply": "2024-08-16T12:53:54.133120Z"
    },
    "papermill": {
     "duration": 0.057653,
     "end_time": "2024-08-16T12:53:54.138398",
     "exception": false,
     "start_time": "2024-08-16T12:53:54.080745",
     "status": "completed"
    },
    "tags": []
   },
   "outputs": [
    {
     "data": {
      "text/plain": [
       "BestScore\n",
       "100    10506\n",
       "193     1074\n",
       "253      292\n",
       "142      147\n",
       "297      124\n",
       "       ...  \n",
       "908        1\n",
       "529        1\n",
       "119        1\n",
       "226        1\n",
       "754        1\n",
       "Name: count, Length: 525, dtype: int64"
      ]
     },
     "execution_count": 27,
     "metadata": {},
     "output_type": "execute_result"
    }
   ],
   "source": [
    "train_dataset['BestScore'].value_counts()"
   ]
  },
  {
   "cell_type": "markdown",
   "id": "9b8dc133",
   "metadata": {
    "papermill": {
     "duration": 0.039821,
     "end_time": "2024-08-16T12:53:54.214641",
     "exception": false,
     "start_time": "2024-08-16T12:53:54.174820",
     "status": "completed"
    },
    "tags": []
   },
   "source": [
    "From the histogram we can see that most recipes (10506 recipes) have received the BestScore of 100, followed by a BestScore of 193. "
   ]
  },
  {
   "cell_type": "code",
   "execution_count": 28,
   "id": "a2ec6250",
   "metadata": {
    "execution": {
     "iopub.execute_input": "2024-08-16T12:53:54.292319Z",
     "iopub.status.busy": "2024-08-16T12:53:54.291308Z",
     "iopub.status.idle": "2024-08-16T12:53:54.594364Z",
     "shell.execute_reply": "2024-08-16T12:53:54.593088Z"
    },
    "papermill": {
     "duration": 0.345726,
     "end_time": "2024-08-16T12:53:54.597145",
     "exception": false,
     "start_time": "2024-08-16T12:53:54.251419",
     "status": "completed"
    },
    "tags": []
   },
   "outputs": [
    {
     "data": {
      "image/png": "[encoded data removed]",
      "text/plain": [
       "<Figure size 1000x600 with 1 Axes>"
      ]
     },
     "metadata": {},
     "output_type": "display_data"
    }
   ],
   "source": [
    "plt.figure(figsize=(10, 6))\n",
    "plt.hist(train_dataset['BestScore'], bins=20, color='skyblue', edgecolor='black')\n",
    "plt.xlabel('Best Score')\n",
    "plt.ylabel('Frequency')\n",
    "plt.title('Histogram of Best Score')\n",
    "plt.grid(True)\n",
    "plt.show()"
   ]
  },
  {
   "cell_type": "code",
   "execution_count": 29,
   "id": "75baaafb",
   "metadata": {
    "execution": {
     "iopub.execute_input": "2024-08-16T12:53:54.673240Z",
     "iopub.status.busy": "2024-08-16T12:53:54.672763Z",
     "iopub.status.idle": "2024-08-16T12:53:54.678488Z",
     "shell.execute_reply": "2024-08-16T12:53:54.677122Z"
    },
    "papermill": {
     "duration": 0.045302,
     "end_time": "2024-08-16T12:53:54.681536",
     "exception": false,
     "start_time": "2024-08-16T12:53:54.636234",
     "status": "completed"
    },
    "tags": []
   },
   "outputs": [],
   "source": [
    "import matplotlib.pyplot as plt\n",
    "import seaborn as sns"
   ]
  },
  {
   "cell_type": "markdown",
   "id": "68cedada",
   "metadata": {
    "papermill": {
     "duration": 0.036788,
     "end_time": "2024-08-16T12:53:54.753508",
     "exception": false,
     "start_time": "2024-08-16T12:53:54.716720",
     "status": "completed"
    },
    "tags": []
   },
   "source": [
    "Calculating the correlation matrix between the selected columns of the DataFrame train_dataset and then visualizing the correlations using a heatmap. \n",
    "\n",
    "The highest correlation is between BestScore and ThumbsUpCount with a correlation coefficient of 0.69.\n",
    "\n",
    "Whereas the lowest correlation is between ID and RecipeNumber with a correlation coefficient of -0.49."
   ]
  },
  {
   "cell_type": "code",
   "execution_count": 30,
   "id": "04fb24d8",
   "metadata": {
    "execution": {
     "iopub.execute_input": "2024-08-16T12:53:54.826865Z",
     "iopub.status.busy": "2024-08-16T12:53:54.826428Z",
     "iopub.status.idle": "2024-08-16T12:53:55.652417Z",
     "shell.execute_reply": "2024-08-16T12:53:55.651046Z"
    },
    "papermill": {
     "duration": 0.86771,
     "end_time": "2024-08-16T12:53:55.656751",
     "exception": false,
     "start_time": "2024-08-16T12:53:54.789041",
     "status": "completed"
    },
    "tags": []
   },
   "outputs": [
    {
     "data": {
      "text/plain": [
       "<Axes: >"
      ]
     },
     "execution_count": 30,
     "metadata": {},
     "output_type": "execute_result"
    },
    {
     "data": {
      "image/png": "[encoded data removed]",
      "text/plain": [
       "<Figure size 1200x700 with 2 Axes>"
      ]
     },
     "metadata": {},
     "output_type": "display_data"
    }
   ],
   "source": [
    "correlation = train_dataset[['ID', 'RecipeNumber','RecipeCode', 'UserReputation', 'CreationTimestamp', 'ReplyCount',\n",
    "       'ThumbsUpCount', 'ThumbsDownCount', 'Rating', 'BestScore']].corr()\n",
    "plt.figure(figsize=(12,7))\n",
    "sns.heatmap(correlation,annot=True)"
   ]
  },
  {
   "cell_type": "code",
   "execution_count": 31,
   "id": "58dd0c2f",
   "metadata": {
    "execution": {
     "iopub.execute_input": "2024-08-16T12:53:55.737865Z",
     "iopub.status.busy": "2024-08-16T12:53:55.737475Z",
     "iopub.status.idle": "2024-08-16T12:53:55.944040Z",
     "shell.execute_reply": "2024-08-16T12:53:55.942931Z"
    },
    "papermill": {
     "duration": 0.250312,
     "end_time": "2024-08-16T12:53:55.947130",
     "exception": false,
     "start_time": "2024-08-16T12:53:55.696818",
     "status": "completed"
    },
    "tags": []
   },
   "outputs": [],
   "source": [
    "from sklearn.impute import SimpleImputer\n",
    "from sklearn.model_selection import train_test_split\n",
    "from sklearn.preprocessing import MinMaxScaler, OneHotEncoder, StandardScaler\n",
    "from sklearn.pipeline import Pipeline\n",
    "from sklearn.compose import ColumnTransformer"
   ]
  },
  {
   "cell_type": "code",
   "execution_count": 32,
   "id": "ac3114ed",
   "metadata": {
    "execution": {
     "iopub.execute_input": "2024-08-16T12:53:56.024803Z",
     "iopub.status.busy": "2024-08-16T12:53:56.024385Z",
     "iopub.status.idle": "2024-08-16T12:53:56.034003Z",
     "shell.execute_reply": "2024-08-16T12:53:56.032258Z"
    },
    "papermill": {
     "duration": 0.051793,
     "end_time": "2024-08-16T12:53:56.036865",
     "exception": false,
     "start_time": "2024-08-16T12:53:55.985072",
     "status": "completed"
    },
    "tags": []
   },
   "outputs": [],
   "source": [
    "cat_features = train_dataset.select_dtypes(['object']).columns\n",
    "num_features = train_dataset.select_dtypes(['int','float']).columns"
   ]
  },
  {
   "cell_type": "code",
   "execution_count": 33,
   "id": "0b15933c",
   "metadata": {
    "execution": {
     "iopub.execute_input": "2024-08-16T12:53:56.116915Z",
     "iopub.status.busy": "2024-08-16T12:53:56.116529Z",
     "iopub.status.idle": "2024-08-16T12:53:56.124778Z",
     "shell.execute_reply": "2024-08-16T12:53:56.123328Z"
    },
    "papermill": {
     "duration": 0.053018,
     "end_time": "2024-08-16T12:53:56.127582",
     "exception": false,
     "start_time": "2024-08-16T12:53:56.074564",
     "status": "completed"
    },
    "tags": []
   },
   "outputs": [
    {
     "data": {
      "text/plain": [
       "Index(['RecipeName', 'CommentID', 'UserID', 'UserName', 'Recipe_Review'], dtype='object')"
      ]
     },
     "execution_count": 33,
     "metadata": {},
     "output_type": "execute_result"
    }
   ],
   "source": [
    "cat_features"
   ]
  },
  {
   "cell_type": "code",
   "execution_count": 34,
   "id": "da829d4d",
   "metadata": {
    "execution": {
     "iopub.execute_input": "2024-08-16T12:53:56.212417Z",
     "iopub.status.busy": "2024-08-16T12:53:56.210998Z",
     "iopub.status.idle": "2024-08-16T12:53:56.222418Z",
     "shell.execute_reply": "2024-08-16T12:53:56.221053Z"
    },
    "papermill": {
     "duration": 0.057778,
     "end_time": "2024-08-16T12:53:56.225885",
     "exception": false,
     "start_time": "2024-08-16T12:53:56.168107",
     "status": "completed"
    },
    "tags": []
   },
   "outputs": [
    {
     "data": {
      "text/plain": [
       "Index(['ID', 'RecipeNumber', 'RecipeCode', 'UserReputation',\n",
       "       'CreationTimestamp', 'ReplyCount', 'ThumbsUpCount', 'ThumbsDownCount',\n",
       "       'Rating', 'BestScore'],\n",
       "      dtype='object')"
      ]
     },
     "execution_count": 34,
     "metadata": {},
     "output_type": "execute_result"
    }
   ],
   "source": [
    "num_features"
   ]
  },
  {
   "cell_type": "markdown",
   "id": "c6a434ac",
   "metadata": {
    "papermill": {
     "duration": 0.038181,
     "end_time": "2024-08-16T12:53:56.304608",
     "exception": false,
     "start_time": "2024-08-16T12:53:56.266427",
     "status": "completed"
    },
    "tags": []
   },
   "source": [
    "**Plotting all numerical attributes with histogram plot for quick examination.**\n",
    "* Features are at different scales.\n",
    "* Features have different distributions -\n",
    " * A few are tail heavy. e.g. ID, BestScore\n",
    " * A few have a single mode. e.g. UserReputation, CreationTimestamp, ReplyCount, ThumbsUpCount, ThumbsDownCount"
   ]
  },
  {
   "cell_type": "code",
   "execution_count": 35,
   "id": "63c1813e",
   "metadata": {
    "execution": {
     "iopub.execute_input": "2024-08-16T12:53:56.390886Z",
     "iopub.status.busy": "2024-08-16T12:53:56.389563Z",
     "iopub.status.idle": "2024-08-16T12:53:59.315654Z",
     "shell.execute_reply": "2024-08-16T12:53:59.314066Z"
    },
    "papermill": {
     "duration": 2.972289,
     "end_time": "2024-08-16T12:53:59.319514",
     "exception": false,
     "start_time": "2024-08-16T12:53:56.347225",
     "status": "completed"
    },
    "tags": []
   },
   "outputs": [
    {
     "data": {
      "image/png": "[encoded data removed]",
      "text/plain": [
       "<Figure size 1600x1600 with 9 Axes>"
      ]
     },
     "metadata": {},
     "output_type": "display_data"
    }
   ],
   "source": [
    "plot_data = train_dataset.drop(columns=['RecipeName', 'CommentID', 'UserID','UserName', 'Recipe_Review','Rating'])\n",
    "# Create subplots for histograms\n",
    "fig, axes = plt.subplots(3, 3, figsize=(16, 16))  # 3 rows and 3 columns for 9 features\n",
    "\n",
    "# Loop through the columns and create histograms\n",
    "for i, column in enumerate(plot_data.columns):\n",
    "    row, col = divmod(i, 3)\n",
    "    ax = axes[row, col]\n",
    "    ax.hist(plot_data[column], bins=20, color='skyblue', alpha=0.7)\n",
    "    ax.set_title(column)\n",
    "    ax.set_xlabel(column)\n",
    "    ax.set_ylabel(\"Frequency\")\n",
    "plt.tight_layout()\n",
    "plt.show()"
   ]
  },
  {
   "cell_type": "code",
   "execution_count": 36,
   "id": "7ab47ba3",
   "metadata": {
    "execution": {
     "iopub.execute_input": "2024-08-16T12:53:59.399757Z",
     "iopub.status.busy": "2024-08-16T12:53:59.399363Z",
     "iopub.status.idle": "2024-08-16T12:53:59.405939Z",
     "shell.execute_reply": "2024-08-16T12:53:59.404739Z"
    },
    "papermill": {
     "duration": 0.049836,
     "end_time": "2024-08-16T12:53:59.408485",
     "exception": false,
     "start_time": "2024-08-16T12:53:59.358649",
     "status": "completed"
    },
    "tags": []
   },
   "outputs": [],
   "source": [
    "# Creating a preprocessing pipeline\n",
    "numeric_transformer = Pipeline(steps=[\n",
    "    ('scaler', MinMaxScaler())])\n",
    "\n",
    "categorical_transformer = Pipeline(steps=[\n",
    "    ('onehot', OneHotEncoder(handle_unknown='ignore'))])"
   ]
  },
  {
   "cell_type": "code",
   "execution_count": 37,
   "id": "99068f83",
   "metadata": {
    "execution": {
     "iopub.execute_input": "2024-08-16T12:53:59.514588Z",
     "iopub.status.busy": "2024-08-16T12:53:59.514198Z",
     "iopub.status.idle": "2024-08-16T12:53:59.520366Z",
     "shell.execute_reply": "2024-08-16T12:53:59.519036Z"
    },
    "papermill": {
     "duration": 0.072529,
     "end_time": "2024-08-16T12:53:59.523026",
     "exception": false,
     "start_time": "2024-08-16T12:53:59.450497",
     "status": "completed"
    },
    "tags": []
   },
   "outputs": [],
   "source": [
    "# Creating a CT preprocessor\n",
    "CT = ColumnTransformer(\n",
    "    transformers=[\n",
    "        ('num', numeric_transformer, num_features),\n",
    "        ('cat', categorical_transformer, cat_features)])"
   ]
  },
  {
   "cell_type": "code",
   "execution_count": 38,
   "id": "418c267e",
   "metadata": {
    "execution": {
     "iopub.execute_input": "2024-08-16T12:53:59.613119Z",
     "iopub.status.busy": "2024-08-16T12:53:59.611960Z",
     "iopub.status.idle": "2024-08-16T12:54:01.062459Z",
     "shell.execute_reply": "2024-08-16T12:54:01.061181Z"
    },
    "papermill": {
     "duration": 1.498987,
     "end_time": "2024-08-16T12:54:01.065238",
     "exception": false,
     "start_time": "2024-08-16T12:53:59.566251",
     "status": "completed"
    },
    "tags": []
   },
   "outputs": [],
   "source": [
    "# Fit and transform the data and convert it into a dataframe\n",
    "train_dataset_transformed = pd.DataFrame(CT.fit_transform(train_dataset))"
   ]
  },
  {
   "cell_type": "code",
   "execution_count": 39,
   "id": "b369075a",
   "metadata": {
    "execution": {
     "iopub.execute_input": "2024-08-16T12:54:01.145497Z",
     "iopub.status.busy": "2024-08-16T12:54:01.145104Z",
     "iopub.status.idle": "2024-08-16T12:54:01.159327Z",
     "shell.execute_reply": "2024-08-16T12:54:01.157945Z"
    },
    "papermill": {
     "duration": 0.057508,
     "end_time": "2024-08-16T12:54:01.162070",
     "exception": false,
     "start_time": "2024-08-16T12:54:01.104562",
     "status": "completed"
    },
    "tags": []
   },
   "outputs": [
    {
     "data": {
      "text/html": [
       "<div>\n",
       "<style scoped>\n",
       "    .dataframe tbody tr th:only-of-type {\n",
       "        vertical-align: middle;\n",
       "    }\n",
       "\n",
       "    .dataframe tbody tr th {\n",
       "        vertical-align: top;\n",
       "    }\n",
       "\n",
       "    .dataframe thead th {\n",
       "        text-align: right;\n",
       "    }\n",
       "</style>\n",
       "<table border=\"1\" class=\"dataframe\">\n",
       "  <thead>\n",
       "    <tr style=\"text-align: right;\">\n",
       "      <th></th>\n",
       "      <th>0</th>\n",
       "    </tr>\n",
       "  </thead>\n",
       "  <tbody>\n",
       "    <tr>\n",
       "      <th>0</th>\n",
       "      <td>(0, 0)\\t0.09668508287292818\\n  (0, 1)\\t0.707...</td>\n",
       "    </tr>\n",
       "    <tr>\n",
       "      <th>1</th>\n",
       "      <td>(0, 0)\\t0.09944751381215469\\n  (0, 1)\\t0.878...</td>\n",
       "    </tr>\n",
       "    <tr>\n",
       "      <th>2</th>\n",
       "      <td>(0, 0)\\t0.6325966850828729\\n  (0, 1)\\t0.0202...</td>\n",
       "    </tr>\n",
       "    <tr>\n",
       "      <th>3</th>\n",
       "      <td>(0, 0)\\t0.009668508287292817\\n  (0, 1)\\t0.49...</td>\n",
       "    </tr>\n",
       "    <tr>\n",
       "      <th>4</th>\n",
       "      <td>(0, 0)\\t0.08287292817679558\\n  (0, 1)\\t0.111...</td>\n",
       "    </tr>\n",
       "  </tbody>\n",
       "</table>\n",
       "</div>"
      ],
      "text/plain": [
       "                                                   0\n",
       "0    (0, 0)\\t0.09668508287292818\\n  (0, 1)\\t0.707...\n",
       "1    (0, 0)\\t0.09944751381215469\\n  (0, 1)\\t0.878...\n",
       "2    (0, 0)\\t0.6325966850828729\\n  (0, 1)\\t0.0202...\n",
       "3    (0, 0)\\t0.009668508287292817\\n  (0, 1)\\t0.49...\n",
       "4    (0, 0)\\t0.08287292817679558\\n  (0, 1)\\t0.111..."
      ]
     },
     "execution_count": 39,
     "metadata": {},
     "output_type": "execute_result"
    }
   ],
   "source": [
    "train_dataset_transformed.head()"
   ]
  },
  {
   "cell_type": "code",
   "execution_count": 40,
   "id": "d8dcde85",
   "metadata": {
    "execution": {
     "iopub.execute_input": "2024-08-16T12:54:01.245578Z",
     "iopub.status.busy": "2024-08-16T12:54:01.244456Z",
     "iopub.status.idle": "2024-08-16T12:54:01.250956Z",
     "shell.execute_reply": "2024-08-16T12:54:01.249641Z"
    },
    "papermill": {
     "duration": 0.051779,
     "end_time": "2024-08-16T12:54:01.254062",
     "exception": false,
     "start_time": "2024-08-16T12:54:01.202283",
     "status": "completed"
    },
    "tags": []
   },
   "outputs": [],
   "source": [
    "# import re\n",
    "# from sklearn.feature_extraction.text import ENGLISH_STOP_WORDS\n",
    "# from sklearn.feature_extraction.text import TfidfVectorizer\n",
    "\n",
    "# # Define function to clean and preprocess text\n",
    "# def preprocess_text(text):\n",
    "#     # Convert text to lowercase\n",
    "#     text = text.lower()\n",
    "    \n",
    "#     # Remove HTML tags\n",
    "#     text = re.sub('<[^<]+?>', '', text)\n",
    "    \n",
    "#     # Remove non-alphanumeric characters and extra whitespaces\n",
    "#     text = re.sub(r'[^a-zA-Z0-9\\s]', '', text)\n",
    "    \n",
    "#     # Remove stopwords\n",
    "#     stop_words = set(ENGLISH_STOP_WORDS)\n",
    "#     tokens = text.split()\n",
    "#     tokens = [token for token in tokens if token not in stop_words]\n",
    "#     text = ' '.join(tokens)\n",
    "    \n",
    "#     return text\n",
    "\n",
    "# # Apply preprocessing to the Recipe_Review column\n",
    "# train_dataset['Recipe_Review'] = train_dataset['Recipe_Review'].apply(preprocess_text)\n"
   ]
  },
  {
   "cell_type": "code",
   "execution_count": 41,
   "id": "b08d146e",
   "metadata": {
    "execution": {
     "iopub.execute_input": "2024-08-16T12:54:01.336834Z",
     "iopub.status.busy": "2024-08-16T12:54:01.336436Z",
     "iopub.status.idle": "2024-08-16T12:54:01.356199Z",
     "shell.execute_reply": "2024-08-16T12:54:01.355063Z"
    },
    "papermill": {
     "duration": 0.064733,
     "end_time": "2024-08-16T12:54:01.358923",
     "exception": false,
     "start_time": "2024-08-16T12:54:01.294190",
     "status": "completed"
    },
    "tags": []
   },
   "outputs": [
    {
     "data": {
      "text/html": [
       "<div>\n",
       "<style scoped>\n",
       "    .dataframe tbody tr th:only-of-type {\n",
       "        vertical-align: middle;\n",
       "    }\n",
       "\n",
       "    .dataframe tbody tr th {\n",
       "        vertical-align: top;\n",
       "    }\n",
       "\n",
       "    .dataframe thead th {\n",
       "        text-align: right;\n",
       "    }\n",
       "</style>\n",
       "<table border=\"1\" class=\"dataframe\">\n",
       "  <thead>\n",
       "    <tr style=\"text-align: right;\">\n",
       "      <th></th>\n",
       "      <th>ID</th>\n",
       "      <th>RecipeNumber</th>\n",
       "      <th>RecipeCode</th>\n",
       "      <th>RecipeName</th>\n",
       "      <th>CommentID</th>\n",
       "      <th>UserID</th>\n",
       "      <th>UserName</th>\n",
       "      <th>UserReputation</th>\n",
       "      <th>CreationTimestamp</th>\n",
       "      <th>ReplyCount</th>\n",
       "      <th>ThumbsUpCount</th>\n",
       "      <th>ThumbsDownCount</th>\n",
       "      <th>BestScore</th>\n",
       "      <th>Recipe_Review</th>\n",
       "    </tr>\n",
       "  </thead>\n",
       "  <tbody>\n",
       "    <tr>\n",
       "      <th>0</th>\n",
       "      <td>70</td>\n",
       "      <td>71</td>\n",
       "      <td>12259</td>\n",
       "      <td>Banana Bars with Cream Cheese Frosting</td>\n",
       "      <td>sp_aUSaElGf_12259_c_149978</td>\n",
       "      <td>u_1oKVaBmiEKwAFyiHrDLoWpbel0J</td>\n",
       "      <td>misscoffeepot</td>\n",
       "      <td>20</td>\n",
       "      <td>1622717078</td>\n",
       "      <td>0</td>\n",
       "      <td>0</td>\n",
       "      <td>0</td>\n",
       "      <td>100</td>\n",
       "      <td>great recipe! I have made them just as written...</td>\n",
       "    </tr>\n",
       "    <tr>\n",
       "      <th>1</th>\n",
       "      <td>72</td>\n",
       "      <td>88</td>\n",
       "      <td>8202</td>\n",
       "      <td>Simple Taco Soup</td>\n",
       "      <td>sp_aUSaElGf_8202_c_310332</td>\n",
       "      <td>u_1oKZeRIXYzGNhGW8OMR3O4lX1ih</td>\n",
       "      <td>MichelleMalone</td>\n",
       "      <td>1</td>\n",
       "      <td>1622717852</td>\n",
       "      <td>0</td>\n",
       "      <td>0</td>\n",
       "      <td>1</td>\n",
       "      <td>100</td>\n",
       "      <td>This is an easy and quick recipe that is great...</td>\n",
       "    </tr>\n",
       "    <tr>\n",
       "      <th>2</th>\n",
       "      <td>458</td>\n",
       "      <td>3</td>\n",
       "      <td>2832</td>\n",
       "      <td>Cheeseburger Soup</td>\n",
       "      <td>sp_aUSaElGf_2832_c_206522</td>\n",
       "      <td>u_1oKYHUtdaD48KJCDYq5wfpAUxWz</td>\n",
       "      <td>jeannem32</td>\n",
       "      <td>1</td>\n",
       "      <td>1622717357</td>\n",
       "      <td>0</td>\n",
       "      <td>0</td>\n",
       "      <td>0</td>\n",
       "      <td>100</td>\n",
       "      <td>I think I was looking for something extra spec...</td>\n",
       "    </tr>\n",
       "    <tr>\n",
       "      <th>3</th>\n",
       "      <td>7</td>\n",
       "      <td>50</td>\n",
       "      <td>100276</td>\n",
       "      <td>Grilled Huli Huli Chicken</td>\n",
       "      <td>sp_aUSaElGf_100276_c_434088</td>\n",
       "      <td>u_1oKZCQcKQZdQhDVBS7oISc216VA</td>\n",
       "      <td>ds422</td>\n",
       "      <td>1</td>\n",
       "      <td>1622648899</td>\n",
       "      <td>0</td>\n",
       "      <td>0</td>\n",
       "      <td>0</td>\n",
       "      <td>100</td>\n",
       "      <td>This is our favorite grilled chicken recipe.  ...</td>\n",
       "    </tr>\n",
       "    <tr>\n",
       "      <th>4</th>\n",
       "      <td>60</td>\n",
       "      <td>12</td>\n",
       "      <td>19731</td>\n",
       "      <td>Cauliflower Soup</td>\n",
       "      <td>sp_aUSaElGf_19731_c_387011</td>\n",
       "      <td>u_1oKd4sudZQPgu6YALiC7bW7mKMs</td>\n",
       "      <td>SusanHoward</td>\n",
       "      <td>1</td>\n",
       "      <td>1622718260</td>\n",
       "      <td>0</td>\n",
       "      <td>0</td>\n",
       "      <td>0</td>\n",
       "      <td>100</td>\n",
       "      <td>Great basic recipe. I added 2 teaspoons Tuscan...</td>\n",
       "    </tr>\n",
       "  </tbody>\n",
       "</table>\n",
       "</div>"
      ],
      "text/plain": [
       "    ID  RecipeNumber  RecipeCode                              RecipeName  \\\n",
       "0   70            71       12259  Banana Bars with Cream Cheese Frosting   \n",
       "1   72            88        8202                        Simple Taco Soup   \n",
       "2  458             3        2832                       Cheeseburger Soup   \n",
       "3    7            50      100276               Grilled Huli Huli Chicken   \n",
       "4   60            12       19731                        Cauliflower Soup   \n",
       "\n",
       "                     CommentID                         UserID        UserName  \\\n",
       "0   sp_aUSaElGf_12259_c_149978  u_1oKVaBmiEKwAFyiHrDLoWpbel0J   misscoffeepot   \n",
       "1    sp_aUSaElGf_8202_c_310332  u_1oKZeRIXYzGNhGW8OMR3O4lX1ih  MichelleMalone   \n",
       "2    sp_aUSaElGf_2832_c_206522  u_1oKYHUtdaD48KJCDYq5wfpAUxWz       jeannem32   \n",
       "3  sp_aUSaElGf_100276_c_434088  u_1oKZCQcKQZdQhDVBS7oISc216VA           ds422   \n",
       "4   sp_aUSaElGf_19731_c_387011  u_1oKd4sudZQPgu6YALiC7bW7mKMs     SusanHoward   \n",
       "\n",
       "   UserReputation  CreationTimestamp  ReplyCount  ThumbsUpCount  \\\n",
       "0              20         1622717078           0              0   \n",
       "1               1         1622717852           0              0   \n",
       "2               1         1622717357           0              0   \n",
       "3               1         1622648899           0              0   \n",
       "4               1         1622718260           0              0   \n",
       "\n",
       "   ThumbsDownCount  BestScore  \\\n",
       "0                0        100   \n",
       "1                1        100   \n",
       "2                0        100   \n",
       "3                0        100   \n",
       "4                0        100   \n",
       "\n",
       "                                       Recipe_Review  \n",
       "0  great recipe! I have made them just as written...  \n",
       "1  This is an easy and quick recipe that is great...  \n",
       "2  I think I was looking for something extra spec...  \n",
       "3  This is our favorite grilled chicken recipe.  ...  \n",
       "4  Great basic recipe. I added 2 teaspoons Tuscan...  "
      ]
     },
     "execution_count": 41,
     "metadata": {},
     "output_type": "execute_result"
    }
   ],
   "source": [
    "X = train_dataset.drop(columns='Rating', axis=1)\n",
    "y = train_dataset['Rating']\n",
    "X.head()"
   ]
  },
  {
   "cell_type": "code",
   "execution_count": 42,
   "id": "e17a92dd",
   "metadata": {
    "execution": {
     "iopub.execute_input": "2024-08-16T12:54:01.441683Z",
     "iopub.status.busy": "2024-08-16T12:54:01.441280Z",
     "iopub.status.idle": "2024-08-16T12:54:01.452500Z",
     "shell.execute_reply": "2024-08-16T12:54:01.451363Z"
    },
    "papermill": {
     "duration": 0.05634,
     "end_time": "2024-08-16T12:54:01.455360",
     "exception": false,
     "start_time": "2024-08-16T12:54:01.399020",
     "status": "completed"
    },
    "tags": []
   },
   "outputs": [
    {
     "data": {
      "text/plain": [
       "0        5\n",
       "1        5\n",
       "2        3\n",
       "3        5\n",
       "4        4\n",
       "        ..\n",
       "13631    5\n",
       "13632    5\n",
       "13633    5\n",
       "13634    5\n",
       "13635    5\n",
       "Name: Rating, Length: 13636, dtype: int64"
      ]
     },
     "execution_count": 42,
     "metadata": {},
     "output_type": "execute_result"
    }
   ],
   "source": [
    "y"
   ]
  },
  {
   "cell_type": "markdown",
   "id": "fcb65286",
   "metadata": {
    "papermill": {
     "duration": 0.039824,
     "end_time": "2024-08-16T12:54:01.535464",
     "exception": false,
     "start_time": "2024-08-16T12:54:01.495640",
     "status": "completed"
    },
    "tags": []
   },
   "source": [
    "TF-IDF(Term Frequency-Inverse Document Frequency) Vectorizer and Count Vectorizer are popular techniques used in natural language processing (NLP) to convert text data into numerical representations suitable for machine learning algorithms."
   ]
  },
  {
   "cell_type": "code",
   "execution_count": 43,
   "id": "a9d189c9",
   "metadata": {
    "execution": {
     "iopub.execute_input": "2024-08-16T12:54:01.620414Z",
     "iopub.status.busy": "2024-08-16T12:54:01.619950Z",
     "iopub.status.idle": "2024-08-16T12:54:01.639501Z",
     "shell.execute_reply": "2024-08-16T12:54:01.638064Z"
    },
    "papermill": {
     "duration": 0.066212,
     "end_time": "2024-08-16T12:54:01.642560",
     "exception": false,
     "start_time": "2024-08-16T12:54:01.576348",
     "status": "completed"
    },
    "tags": []
   },
   "outputs": [],
   "source": [
    "from sklearn.feature_extraction.text import TfidfVectorizer\n",
    "from sklearn.feature_extraction.text import CountVectorizer"
   ]
  },
  {
   "cell_type": "markdown",
   "id": "0107582a",
   "metadata": {
    "papermill": {
     "duration": 0.041155,
     "end_time": "2024-08-16T12:54:01.724850",
     "exception": false,
     "start_time": "2024-08-16T12:54:01.683695",
     "status": "completed"
    },
    "tags": []
   },
   "source": [
    "Here, we initialize a CountVectorizer object named vec_username to convert the 'UserName' column into a matrix of token counts. It analyzes the text data to determine the unique words (tokens) present in the 'UserName' column and assigns an index to each unique word."
   ]
  },
  {
   "cell_type": "code",
   "execution_count": 44,
   "id": "d70515ce",
   "metadata": {
    "execution": {
     "iopub.execute_input": "2024-08-16T12:54:01.809824Z",
     "iopub.status.busy": "2024-08-16T12:54:01.809430Z",
     "iopub.status.idle": "2024-08-16T12:54:02.164758Z",
     "shell.execute_reply": "2024-08-16T12:54:02.162941Z"
    },
    "papermill": {
     "duration": 0.401372,
     "end_time": "2024-08-16T12:54:02.167806",
     "exception": false,
     "start_time": "2024-08-16T12:54:01.766434",
     "status": "completed"
    },
    "tags": []
   },
   "outputs": [
    {
     "name": "stdout",
     "output_type": "stream",
     "text": [
      "(13636, 10855) (13636,)\n",
      "(4546, 10855)\n"
     ]
    }
   ],
   "source": [
    "vec_username = CountVectorizer()\n",
    "vec_username.fit(train_dataset['UserName'].values)\n",
    "\n",
    "X_train_username = vec_username.transform(train_dataset['UserName'].values)\n",
    "X_test_username = vec_username.transform(test_dataset['UserName'].values)\n",
    "\n",
    "print(X_train_username.shape, y.shape)\n",
    "print(X_test_username.shape)"
   ]
  },
  {
   "cell_type": "markdown",
   "id": "9a39f5cc",
   "metadata": {
    "papermill": {
     "duration": 0.045045,
     "end_time": "2024-08-16T12:54:02.254716",
     "exception": false,
     "start_time": "2024-08-16T12:54:02.209671",
     "status": "completed"
    },
    "tags": []
   },
   "source": [
    "This code is similar to the previous one but applied to the 'RecipeName' column instead of the 'UserName' column. It analyzes the text data to determine the unique words (tokens) present in the 'RecipeName' column and assigns an index to each unique word."
   ]
  },
  {
   "cell_type": "code",
   "execution_count": 45,
   "id": "42508061",
   "metadata": {
    "execution": {
     "iopub.execute_input": "2024-08-16T12:54:02.342605Z",
     "iopub.status.busy": "2024-08-16T12:54:02.342202Z",
     "iopub.status.idle": "2024-08-16T12:54:02.617991Z",
     "shell.execute_reply": "2024-08-16T12:54:02.616373Z"
    },
    "papermill": {
     "duration": 0.322272,
     "end_time": "2024-08-16T12:54:02.620857",
     "exception": false,
     "start_time": "2024-08-16T12:54:02.298585",
     "status": "completed"
    },
    "tags": []
   },
   "outputs": [
    {
     "name": "stdout",
     "output_type": "stream",
     "text": [
      "(13636, 185) (13636,)\n",
      "(4546, 185)\n"
     ]
    }
   ],
   "source": [
    "vec = CountVectorizer()\n",
    "vec.fit(train_dataset['RecipeName'].values)\n",
    "\n",
    "X_train_recipe = vec.transform(train_dataset['RecipeName'].values)\n",
    "X_test_recipe = vec.transform(test_dataset['RecipeName'].values)\n",
    "\n",
    "print(X_train_recipe.shape, y.shape)\n",
    "print(X_test_recipe.shape)"
   ]
  },
  {
   "cell_type": "markdown",
   "id": "a26fdaf4",
   "metadata": {
    "papermill": {
     "duration": 0.04134,
     "end_time": "2024-08-16T12:54:02.703460",
     "exception": false,
     "start_time": "2024-08-16T12:54:02.662120",
     "status": "completed"
    },
    "tags": []
   },
   "source": [
    "Here we transform the 'Recipe_Review' column of the training dataset into a matrix of TF-IDF features ie. words that appear most frequently and are most important in the document. \n",
    "\n",
    "This code prepares the text data in the 'Recipe_Review' column for machine learning models by converting it into a numerical representation using TF-IDF features, which can then be used for training and testing classification models."
   ]
  },
  {
   "cell_type": "code",
   "execution_count": 46,
   "id": "faa2cc89",
   "metadata": {
    "execution": {
     "iopub.execute_input": "2024-08-16T12:54:02.787606Z",
     "iopub.status.busy": "2024-08-16T12:54:02.787178Z",
     "iopub.status.idle": "2024-08-16T12:54:13.083224Z",
     "shell.execute_reply": "2024-08-16T12:54:13.082106Z"
    },
    "papermill": {
     "duration": 10.342227,
     "end_time": "2024-08-16T12:54:13.086286",
     "exception": false,
     "start_time": "2024-08-16T12:54:02.744059",
     "status": "completed"
    },
    "tags": []
   },
   "outputs": [
    {
     "name": "stdout",
     "output_type": "stream",
     "text": [
      "(13636, 10000) (13636,)\n",
      "(4546, 10000)\n"
     ]
    }
   ],
   "source": [
    "vec_rr = TfidfVectorizer(min_df=5,ngram_range=(1,4), max_features=10000 )\n",
    "vec_rr.fit(train_dataset['Recipe_Review'].values)\n",
    "\n",
    "X_train_rr = vec_rr.transform(train_dataset['Recipe_Review'].values)\n",
    "X_test_rr = vec_rr.transform(test_dataset['Recipe_Review'].values)\n",
    "\n",
    "print(X_train_rr.shape, y.shape)\n",
    "print(X_test_rr.shape)"
   ]
  },
  {
   "cell_type": "code",
   "execution_count": 47,
   "id": "1d46849a",
   "metadata": {
    "execution": {
     "iopub.execute_input": "2024-08-16T12:54:13.171573Z",
     "iopub.status.busy": "2024-08-16T12:54:13.171143Z",
     "iopub.status.idle": "2024-08-16T12:54:13.176576Z",
     "shell.execute_reply": "2024-08-16T12:54:13.175026Z"
    },
    "papermill": {
     "duration": 0.050502,
     "end_time": "2024-08-16T12:54:13.179288",
     "exception": false,
     "start_time": "2024-08-16T12:54:13.128786",
     "status": "completed"
    },
    "tags": []
   },
   "outputs": [],
   "source": [
    "# X_train_rr.columns"
   ]
  },
  {
   "cell_type": "code",
   "execution_count": 48,
   "id": "35144277",
   "metadata": {
    "execution": {
     "iopub.execute_input": "2024-08-16T12:54:13.267165Z",
     "iopub.status.busy": "2024-08-16T12:54:13.266688Z",
     "iopub.status.idle": "2024-08-16T12:54:13.273179Z",
     "shell.execute_reply": "2024-08-16T12:54:13.271535Z"
    },
    "papermill": {
     "duration": 0.055359,
     "end_time": "2024-08-16T12:54:13.276015",
     "exception": false,
     "start_time": "2024-08-16T12:54:13.220656",
     "status": "completed"
    },
    "tags": []
   },
   "outputs": [],
   "source": [
    "# from sklearn.feature_selection import SelectKBest, chi2\n",
    "\n",
    "# # Create SelectKBest object\n",
    "# selector = SelectKBest(score_func=chi2, k=800)\n",
    "\n",
    "# # Fit selector to training data\n",
    "# selector.fit(X_train_rr, y)\n",
    "\n",
    "# # Transform training and testing data\n",
    "# X_train_rr = selector.transform(X_train_rr)\n",
    "# X_test_rr = selector.transform(X_test_rr)\n",
    "\n",
    "# print(X_train_rr.shape, y.shape)\n",
    "# print(X_test_rr.shape)"
   ]
  },
  {
   "cell_type": "markdown",
   "id": "10f4fe26",
   "metadata": {
    "papermill": {
     "duration": 0.040486,
     "end_time": "2024-08-16T12:54:13.357515",
     "exception": false,
     "start_time": "2024-08-16T12:54:13.317029",
     "status": "completed"
    },
    "tags": []
   },
   "source": [
    "Horizontally stacking sparse matrices X_train_username, X_train_recipe, and X_train_rr into a single sparse matrix X_tr for the training data.\n",
    "\n",
    "Similarly stacking X_test_username, X_test_recipe, and X_test_rr into X_te."
   ]
  },
  {
   "cell_type": "code",
   "execution_count": 49,
   "id": "9d4d2ac6",
   "metadata": {
    "execution": {
     "iopub.execute_input": "2024-08-16T12:54:13.441753Z",
     "iopub.status.busy": "2024-08-16T12:54:13.441294Z",
     "iopub.status.idle": "2024-08-16T12:54:13.459161Z",
     "shell.execute_reply": "2024-08-16T12:54:13.457925Z"
    },
    "papermill": {
     "duration": 0.062404,
     "end_time": "2024-08-16T12:54:13.461840",
     "exception": false,
     "start_time": "2024-08-16T12:54:13.399436",
     "status": "completed"
    },
    "tags": []
   },
   "outputs": [
    {
     "name": "stdout",
     "output_type": "stream",
     "text": [
      "(13636, 21040) (13636,)\n",
      "(4546, 21040)\n"
     ]
    }
   ],
   "source": [
    "from scipy.sparse import hstack\n",
    "\n",
    "X_tr = hstack((X_train_username, X_train_recipe, X_train_rr))\n",
    "X_te = hstack((X_test_username, X_test_recipe, X_test_rr))\n",
    "\n",
    "print(X_tr.shape, y.shape)\n",
    "print(X_te.shape)"
   ]
  },
  {
   "cell_type": "code",
   "execution_count": 50,
   "id": "95861bb4",
   "metadata": {
    "execution": {
     "iopub.execute_input": "2024-08-16T12:54:13.546540Z",
     "iopub.status.busy": "2024-08-16T12:54:13.546126Z",
     "iopub.status.idle": "2024-08-16T12:54:13.553572Z",
     "shell.execute_reply": "2024-08-16T12:54:13.552401Z"
    },
    "papermill": {
     "duration": 0.053362,
     "end_time": "2024-08-16T12:54:13.556180",
     "exception": false,
     "start_time": "2024-08-16T12:54:13.502818",
     "status": "completed"
    },
    "tags": []
   },
   "outputs": [
    {
     "data": {
      "text/plain": [
       "(<13636x21040 sparse matrix of type '<class 'numpy.float64'>'\n",
       " \twith 766555 stored elements in Compressed Sparse Row format>,\n",
       " <4546x21040 sparse matrix of type '<class 'numpy.float64'>'\n",
       " \twith 247984 stored elements in Compressed Sparse Row format>)"
      ]
     },
     "execution_count": 50,
     "metadata": {},
     "output_type": "execute_result"
    }
   ],
   "source": [
    "X_tr, X_te"
   ]
  },
  {
   "cell_type": "markdown",
   "id": "e1acd972",
   "metadata": {
    "papermill": {
     "duration": 0.040607,
     "end_time": "2024-08-16T12:54:13.637497",
     "exception": false,
     "start_time": "2024-08-16T12:54:13.596890",
     "status": "completed"
    },
    "tags": []
   },
   "source": [
    "# **Dummy Classifier**\n",
    "**Score: 0.76066**"
   ]
  },
  {
   "cell_type": "code",
   "execution_count": 51,
   "id": "6d0da83f",
   "metadata": {
    "execution": {
     "iopub.execute_input": "2024-08-16T12:54:13.723097Z",
     "iopub.status.busy": "2024-08-16T12:54:13.722181Z",
     "iopub.status.idle": "2024-08-16T12:54:13.727882Z",
     "shell.execute_reply": "2024-08-16T12:54:13.726597Z"
    },
    "papermill": {
     "duration": 0.051905,
     "end_time": "2024-08-16T12:54:13.730451",
     "exception": false,
     "start_time": "2024-08-16T12:54:13.678546",
     "status": "completed"
    },
    "tags": []
   },
   "outputs": [],
   "source": [
    "# df = pd.read_csv('/kaggle/input/recipe-for-rating-predict-food-ratings-using-ml/train.csv')\n",
    "# X = df.drop(\"Rating\", axis = 1)\n",
    "# y = df['Rating']\n",
    "\n",
    "# from sklearn.dummy import DummyClassifier\n",
    "# model = DummyClassifier(strategy = \"most_frequent\").fit(X,y)\n",
    "\n",
    "# X_test = pd.read_csv('/kaggle/input/recipe-for-rating-predict-food-ratings-using-ml/test.csv')\n",
    "# y_pred = model.predict(X_test)\n",
    "\n",
    "# submission = pd.DataFrame({ 'ID': range(1,4547),\n",
    "#                             'total_amount': y_pred})\n",
    "\n",
    "# submission.to_csv('submission.csv', index = False) # converting it to csv file"
   ]
  },
  {
   "cell_type": "markdown",
   "id": "1dd55da0",
   "metadata": {
    "papermill": {
     "duration": 0.041127,
     "end_time": "2024-08-16T12:54:13.812574",
     "exception": false,
     "start_time": "2024-08-16T12:54:13.771447",
     "status": "completed"
    },
    "tags": []
   },
   "source": [
    "# **Random Forrest Classifier**\n",
    "**Score: 0.77298**"
   ]
  },
  {
   "cell_type": "code",
   "execution_count": 52,
   "id": "d68e6983",
   "metadata": {
    "execution": {
     "iopub.execute_input": "2024-08-16T12:54:13.896069Z",
     "iopub.status.busy": "2024-08-16T12:54:13.895648Z",
     "iopub.status.idle": "2024-08-16T12:54:13.900648Z",
     "shell.execute_reply": "2024-08-16T12:54:13.899511Z"
    },
    "papermill": {
     "duration": 0.050005,
     "end_time": "2024-08-16T12:54:13.903371",
     "exception": false,
     "start_time": "2024-08-16T12:54:13.853366",
     "status": "completed"
    },
    "tags": []
   },
   "outputs": [],
   "source": [
    "# from sklearn.ensemble import RandomForestClassifier\n",
    "# r=RandomForestClassifier()\n",
    "# r.fit(X_tr, y)"
   ]
  },
  {
   "cell_type": "code",
   "execution_count": 53,
   "id": "ee0b0f67",
   "metadata": {
    "execution": {
     "iopub.execute_input": "2024-08-16T12:54:13.987701Z",
     "iopub.status.busy": "2024-08-16T12:54:13.987277Z",
     "iopub.status.idle": "2024-08-16T12:54:13.992139Z",
     "shell.execute_reply": "2024-08-16T12:54:13.991024Z"
    },
    "papermill": {
     "duration": 0.050137,
     "end_time": "2024-08-16T12:54:13.994670",
     "exception": false,
     "start_time": "2024-08-16T12:54:13.944533",
     "status": "completed"
    },
    "tags": []
   },
   "outputs": [],
   "source": [
    "# y_pred = r.predict(X_tr)\n",
    "# y_test_pred=r.predict(X_te)"
   ]
  },
  {
   "cell_type": "markdown",
   "id": "acd48550",
   "metadata": {
    "papermill": {
     "duration": 0.040969,
     "end_time": "2024-08-16T12:54:14.077622",
     "exception": false,
     "start_time": "2024-08-16T12:54:14.036653",
     "status": "completed"
    },
    "tags": []
   },
   "source": [
    "# **CART: Decision Tree Classifier**\n",
    "**Score: 0.76022**"
   ]
  },
  {
   "cell_type": "code",
   "execution_count": 54,
   "id": "e7a47a9a",
   "metadata": {
    "execution": {
     "iopub.execute_input": "2024-08-16T12:54:14.162678Z",
     "iopub.status.busy": "2024-08-16T12:54:14.162257Z",
     "iopub.status.idle": "2024-08-16T12:54:14.169040Z",
     "shell.execute_reply": "2024-08-16T12:54:14.167717Z"
    },
    "papermill": {
     "duration": 0.052393,
     "end_time": "2024-08-16T12:54:14.171777",
     "exception": false,
     "start_time": "2024-08-16T12:54:14.119384",
     "status": "completed"
    },
    "tags": []
   },
   "outputs": [],
   "source": [
    "# from sklearn.tree import DecisionTreeClassifier\n",
    "# from sklearn.model_selection import GridSearchCV\n",
    "\n",
    "# # Create Decision Tree classifier\n",
    "# cart = DecisionTreeClassifier()\n",
    "\n",
    "# # Define hyperparameters and their values to tune\n",
    "# param_grid = {\n",
    "#     'criterion': ['gini', 'entropy'],    # Splitting criterion\n",
    "#     'max_depth': [None, 10, 20, 30],     # Maximum depth of the tree\n",
    "#     'min_samples_split': [2, 5, 10],     # Minimum number of samples required to split an internal node\n",
    "#     'min_samples_leaf': [1, 2, 4],       # Minimum number of samples required to be at a leaf node\n",
    "#     'max_features': ['auto', 'sqrt', 'log2']  # Number of features to consider when looking for the best split\n",
    "# }\n",
    "\n",
    "# # Perform grid search cross-validation\n",
    "# grid_search = GridSearchCV(estimator=cart, param_grid=param_grid, cv=5, scoring='accuracy', n_jobs=-1)\n",
    "\n",
    "# # Fit the grid search to the training data\n",
    "# grid_search.fit(X_tr, y)\n",
    "\n",
    "# # Print the best hyperparameters found\n",
    "# print(\"Best hyperparameters:\", grid_search.best_params_)\n",
    "\n",
    "# # Use the best model found by GridSearchCV\n",
    "# best_cart = grid_search.best_estimator_\n",
    "\n",
    "# # Make predictions on the training and testing sets using the best model\n",
    "# y_pred_train = best_cart.predict(X_tr)\n",
    "# y_pred_test = best_cart.predict(X_te)\n"
   ]
  },
  {
   "cell_type": "markdown",
   "id": "77805daf",
   "metadata": {
    "papermill": {
     "duration": 0.040794,
     "end_time": "2024-08-16T12:54:14.253785",
     "exception": false,
     "start_time": "2024-08-16T12:54:14.212991",
     "status": "completed"
    },
    "tags": []
   },
   "source": [
    "# **Bagging**\n",
    "**Score: 0.77562**"
   ]
  },
  {
   "cell_type": "code",
   "execution_count": 55,
   "id": "cc3686d2",
   "metadata": {
    "execution": {
     "iopub.execute_input": "2024-08-16T12:54:14.339746Z",
     "iopub.status.busy": "2024-08-16T12:54:14.339321Z",
     "iopub.status.idle": "2024-08-16T12:54:14.346390Z",
     "shell.execute_reply": "2024-08-16T12:54:14.345199Z"
    },
    "papermill": {
     "duration": 0.052721,
     "end_time": "2024-08-16T12:54:14.348952",
     "exception": false,
     "start_time": "2024-08-16T12:54:14.296231",
     "status": "completed"
    },
    "tags": []
   },
   "outputs": [],
   "source": [
    "# from sklearn.ensemble import BaggingClassifier\n",
    "# from sklearn.tree import DecisionTreeClassifier\n",
    "# from sklearn.model_selection import RandomizedSearchCV\n",
    "# from scipy.stats import uniform, randint\n",
    "\n",
    "# # Create base classifier (Decision Tree in this case)\n",
    "# base_classifier = DecisionTreeClassifier()\n",
    "\n",
    "# # Create Bagging Classifier\n",
    "# bagging_classifier = BaggingClassifier(base_estimator=base_classifier)\n",
    "\n",
    "# # Define hyperparameter distributions\n",
    "# param_dist = {\n",
    "#     'n_estimators': randint(10, 100),        # Randomly sample number of estimators\n",
    "#     'max_samples': uniform(0.5, 0.5),        # Uniform distribution for max samples\n",
    "#     'max_features': uniform(0.5, 0.5),       # Uniform distribution for max features\n",
    "#     'bootstrap': [True, False]\n",
    "# }\n",
    "\n",
    "# # Perform randomized search cross-validation\n",
    "# random_search_bagging = RandomizedSearchCV(estimator=bagging_classifier, param_distributions=param_dist, n_iter=10, cv=3, scoring='accuracy', n_jobs=-1, random_state=42)\n",
    "\n",
    "# # Fit the randomized search to the training data\n",
    "# random_search_bagging.fit(X_tr, y)\n",
    "\n",
    "# # Print the best hyperparameters found\n",
    "# print(\"Best hyperparameters for Bagging:\", random_search_bagging.best_params_)\n",
    "# # Best hyperparameters for Bagging: {'bootstrap': True, 'max_features': 0.5102922471479012, 'max_samples': 0.9849549260809971, 'n_estimators': 39}\n",
    "\n",
    "# # Use the best model found by RandomizedSearchCV\n",
    "# best_bagging = random_search_bagging.best_estimator_\n",
    "\n",
    "# # Make predictions on the training and testing sets using the best model\n",
    "# y_pred_train = best_bagging.predict(X_tr)\n",
    "# y_pred_test = best_bagging.predict(X_te)"
   ]
  },
  {
   "cell_type": "markdown",
   "id": "c6c1e8f0",
   "metadata": {
    "papermill": {
     "duration": 0.040477,
     "end_time": "2024-08-16T12:54:14.430388",
     "exception": false,
     "start_time": "2024-08-16T12:54:14.389911",
     "status": "completed"
    },
    "tags": []
   },
   "source": [
    "# **Boosting**\n",
    "**Score: 0.68741**"
   ]
  },
  {
   "cell_type": "code",
   "execution_count": 56,
   "id": "13979718",
   "metadata": {
    "execution": {
     "iopub.execute_input": "2024-08-16T12:54:14.516596Z",
     "iopub.status.busy": "2024-08-16T12:54:14.516181Z",
     "iopub.status.idle": "2024-08-16T12:54:14.522570Z",
     "shell.execute_reply": "2024-08-16T12:54:14.521350Z"
    },
    "papermill": {
     "duration": 0.054117,
     "end_time": "2024-08-16T12:54:14.525518",
     "exception": false,
     "start_time": "2024-08-16T12:54:14.471401",
     "status": "completed"
    },
    "tags": []
   },
   "outputs": [],
   "source": [
    "# from sklearn.ensemble import AdaBoostClassifier\n",
    "# from sklearn.tree import DecisionTreeClassifier\n",
    "# from sklearn.model_selection import GridSearchCV\n",
    "\n",
    "# # Create base classifier (Decision Tree in this case)\n",
    "# base_classifier = DecisionTreeClassifier()\n",
    "\n",
    "# # Create AdaBoost Classifier\n",
    "# adaboost_classifier = AdaBoostClassifier(base_classifier)\n",
    "\n",
    "# # Define hyperparameters and their values to tune\n",
    "# param_grid = {\n",
    "#     'n_estimators': [50, 100, 200],  # Number of weak learners\n",
    "#     'learning_rate': [0.1, 0.5, 1.0],  # Weight applied to each weak learner\n",
    "#     'algorithm': ['SAMME', 'SAMME.R']  # Algorithm used for boosting\n",
    "# }\n",
    "\n",
    "# # Perform grid search cross-validation\n",
    "# grid_search_adaboost = GridSearchCV(estimator=adaboost_classifier, param_grid=param_grid, cv=5, scoring='accuracy', n_jobs=-1)\n",
    "\n",
    "# # Fit the grid search to the training data\n",
    "# grid_search_adaboost.fit(X_tr, y)\n",
    "\n",
    "# # Print the best hyperparameters found\n",
    "# print(\"Best hyperparameters for AdaBoost:\", grid_search_adaboost.best_params_)\n",
    "# # Best hyperparameters for AdaBoost: {'algorithm': 'SAMME', 'learning_rate': 1.0, 'n_estimators': 200}\n",
    "\n",
    "\n",
    "# # Use the best model found by GridSearchCV for AdaBoost\n",
    "# best_adaboost = grid_search_adaboost.best_estimator_\n",
    "\n",
    "# # Make predictions on the training and testing sets using the best AdaBoost model\n",
    "# y_pred_train = best_adaboost.predict(X_tr)\n",
    "# y_pred_test = best_adaboost.predict(X_te)\n"
   ]
  },
  {
   "cell_type": "markdown",
   "id": "71c4c181",
   "metadata": {
    "papermill": {
     "duration": 0.040717,
     "end_time": "2024-08-16T12:54:14.607959",
     "exception": false,
     "start_time": "2024-08-16T12:54:14.567242",
     "status": "completed"
    },
    "tags": []
   },
   "source": [
    "# **2nd Highest Score: MLP Classifier with Random Search**\n",
    "**Score: 0.78970**"
   ]
  },
  {
   "cell_type": "markdown",
   "id": "e65f8da6",
   "metadata": {
    "papermill": {
     "duration": 0.040999,
     "end_time": "2024-08-16T12:54:14.689939",
     "exception": false,
     "start_time": "2024-08-16T12:54:14.648940",
     "status": "completed"
    },
    "tags": []
   },
   "source": [
    "MLP **(Multi-Layer Perceptron)** Classifier is extremely useful in datasets which have a combination of **numerical and categorical features**. In this project, the prediction of Rating is heavily dependent on the categorical feature - RecipeReview, which is based on the **user's sentiments**. Also, MLP classifier (being a **neural network**) is extremely competent in handling **non-linear relationships**. Here, there could be a non-linear relationship between UserReputatipn, ThumbsUpCount, ThumbsDownCount and RecipeReview which could non-linearly affect the Ratings."
   ]
  },
  {
   "cell_type": "code",
   "execution_count": 57,
   "id": "9ab6e713",
   "metadata": {
    "execution": {
     "iopub.execute_input": "2024-08-16T12:54:14.776958Z",
     "iopub.status.busy": "2024-08-16T12:54:14.776581Z",
     "iopub.status.idle": "2024-08-16T12:54:14.783192Z",
     "shell.execute_reply": "2024-08-16T12:54:14.782058Z"
    },
    "papermill": {
     "duration": 0.053186,
     "end_time": "2024-08-16T12:54:14.785875",
     "exception": false,
     "start_time": "2024-08-16T12:54:14.732689",
     "status": "completed"
    },
    "tags": []
   },
   "outputs": [],
   "source": [
    "# from sklearn.neural_network import MLPClassifier\n",
    "# from sklearn.model_selection import RandomizedSearchCV\n",
    "# from scipy.stats import randint\n",
    "\n",
    "# # Create MLP classifier\n",
    "# mlp = MLPClassifier()\n",
    "\n",
    "# # Define hyperparameters and their values to tune\n",
    "# param_dist = {\n",
    "#     'hidden_layer_sizes': [(50,), (100,), (150,)],  # The number of neurons in each hidden layer.\n",
    "#     'activation': ['relu', 'tanh'],  # The function applied to the output of each neuron in the hidden layers.\n",
    "#     'solver': ['adam'],  # The optimization algorithm used to update the weights of the connections.\n",
    "#     'alpha': [0.0001, 0.001],  # Regularization Parameter: alpha(L2 regularization) to prevent overfitting.\n",
    "#     'learning_rate': ['constant']  # Determines the step size during weight updates.\n",
    "# }\n",
    "# # Neurons in hidden layers usually apply non-linear activation functions such as -\n",
    "# # ReLU (Rectified Linear Unit), tanh (Hyperbolic Tangent), or sigmoid. They introduce non-linearity to the output\n",
    "# # of individual neurons to learn complex relationships and patterns in the data.\n",
    "\n",
    "# n_iter_search = 20\n",
    "\n",
    "# # Perform randomized search cross-validation\n",
    "# random_search_mlp = RandomizedSearchCV(estimator=mlp, param_distributions=param_dist, n_iter=n_iter_search, cv=5, scoring='accuracy', n_jobs=-1)\n",
    "\n",
    "# # Fit the randomized search to the training data\n",
    "# random_search_mlp.fit(X_tr, y)\n",
    "\n",
    "# # Print the best hyperparameters found\n",
    "# print(\"Best hyperparameters for MLP:\", random_search_mlp.best_params_)\n",
    "# # Best hyperparameters for MLP: {'solver': 'adam', 'learning_rate': 'constant', 'hidden_layer_sizes': (150,), 'alpha': 0.001, 'activation': 'relu'}\n",
    "\n",
    "# # Use the best model found by RandomizedSearchCV for MLP\n",
    "# best_mlp = random_search_mlp.best_estimator_\n",
    "\n",
    "# # Make predictions on the training and testing sets using the best MLP model\n",
    "# y_pred_train = best_mlp.predict(X_tr)\n",
    "# y_pred_test = best_mlp.predict(X_te)\n"
   ]
  },
  {
   "cell_type": "markdown",
   "id": "06a52616",
   "metadata": {
    "papermill": {
     "duration": 0.041515,
     "end_time": "2024-08-16T12:54:14.868867",
     "exception": false,
     "start_time": "2024-08-16T12:54:14.827352",
     "status": "completed"
    },
    "tags": []
   },
   "source": [
    "# **1st Highest Score: MLP Classifier with Grid Search**\n",
    "**Score: 0.79014**"
   ]
  },
  {
   "cell_type": "code",
   "execution_count": 58,
   "id": "50698853",
   "metadata": {
    "execution": {
     "iopub.execute_input": "2024-08-16T12:54:14.953286Z",
     "iopub.status.busy": "2024-08-16T12:54:14.952861Z",
     "iopub.status.idle": "2024-08-16T13:22:33.465407Z",
     "shell.execute_reply": "2024-08-16T13:22:33.463531Z"
    },
    "papermill": {
     "duration": 1698.630136,
     "end_time": "2024-08-16T13:22:33.540726",
     "exception": false,
     "start_time": "2024-08-16T12:54:14.910590",
     "status": "completed"
    },
    "tags": []
   },
   "outputs": [
    {
     "name": "stdout",
     "output_type": "stream",
     "text": [
      "Best hyperparameters for MLP: {'activation': 'relu', 'alpha': 0.001, 'hidden_layer_sizes': (150,), 'learning_rate': 'constant', 'solver': 'adam'}\n"
     ]
    }
   ],
   "source": [
    "from sklearn.model_selection import GridSearchCV\n",
    "from sklearn.neural_network import MLPClassifier\n",
    "from scipy.stats import randint\n",
    "\n",
    "# Define hyperparameters and their values to tune\n",
    "param_grid = {\n",
    "    'hidden_layer_sizes': [(150,)],  # The number of neurons in each hidden layer.\n",
    "    'activation': ['relu'],  # The function applied to the output of each neuron in the hidden layers.\n",
    "    'solver': ['adam'],  # The optimization algorithm used to update the weights of the connections.\n",
    "    'alpha': [0.001],  # Regularization Parameter: alpha(L2 regularization) to prevent overfitting.\n",
    "    'learning_rate': ['constant']  # Determines the step size during weight updates.\n",
    "}\n",
    "\n",
    "# Create MLP classifier\n",
    "mlp = MLPClassifier()\n",
    "\n",
    "# Perform grid search cross-validation\n",
    "grid_search_mlp = GridSearchCV(estimator=mlp, param_grid=param_grid, cv=5, scoring='accuracy', n_jobs=-1)\n",
    "\n",
    "# Fit the grid search to the training data\n",
    "grid_search_mlp.fit(X_tr, y)\n",
    "\n",
    "# Print the best hyperparameters found\n",
    "print(\"Best hyperparameters for MLP:\", grid_search_mlp.best_params_)\n",
    "# Best hyperparameters for MLP: {'activation': 'relu', 'alpha': 0.001, 'hidden_layer_sizes': (150,), 'learning_rate': 'constant', 'solver': 'adam'}\n",
    "\n",
    "# Use the best model found by GridSearchCV for MLP\n",
    "best_mlp = grid_search_mlp.best_estimator_\n",
    "\n",
    "# Make predictions on the training and testing sets using the best MLP model\n",
    "y_pred_train = best_mlp.predict(X_tr)\n",
    "y_pred_test = best_mlp.predict(X_te)"
   ]
  },
  {
   "cell_type": "markdown",
   "id": "01791005",
   "metadata": {
    "papermill": {
     "duration": 0.042463,
     "end_time": "2024-08-16T13:22:33.644622",
     "exception": false,
     "start_time": "2024-08-16T13:22:33.602159",
     "status": "completed"
    },
    "tags": []
   },
   "source": [
    "# **KNN**\n",
    "**Score: 0.76572**"
   ]
  },
  {
   "cell_type": "code",
   "execution_count": 59,
   "id": "322bb3b9",
   "metadata": {
    "execution": {
     "iopub.execute_input": "2024-08-16T13:22:33.735185Z",
     "iopub.status.busy": "2024-08-16T13:22:33.734717Z",
     "iopub.status.idle": "2024-08-16T13:22:33.741529Z",
     "shell.execute_reply": "2024-08-16T13:22:33.740232Z"
    },
    "papermill": {
     "duration": 0.05456,
     "end_time": "2024-08-16T13:22:33.743925",
     "exception": false,
     "start_time": "2024-08-16T13:22:33.689365",
     "status": "completed"
    },
    "tags": []
   },
   "outputs": [],
   "source": [
    "# from sklearn.neighbors import KNeighborsClassifier\n",
    "# from sklearn.model_selection import GridSearchCV\n",
    "\n",
    "# # Create KNN classifier\n",
    "# knn = KNeighborsClassifier()\n",
    "\n",
    "# # Define hyperparameters and their values to tune\n",
    "# param_grid = {\n",
    "#     'n_neighbors': [3, 5, 7, 10],           # Number of neighbors\n",
    "#     'weights': ['uniform', 'distance'],     # Weight function used in prediction\n",
    "#     'algorithm': ['auto', 'ball_tree', 'kd_tree', 'brute'],  # Algorithm used to compute the nearest neighbors\n",
    "#     'p': [1, 2]                              # Power parameter for the Minkowski metric\n",
    "# }\n",
    "\n",
    "# # Perform grid search cross-validation\n",
    "# grid_search = GridSearchCV(estimator=knn, param_grid=param_grid, cv=5, scoring='accuracy', n_jobs=-1)\n",
    "\n",
    "# # Fit the grid search to the training data\n",
    "# grid_search.fit(X_tr, y)\n",
    "\n",
    "# # Print the best hyperparameters found\n",
    "# print(\"Best hyperparameters:\", grid_search.best_params_)\n",
    "\n",
    "# # Use the best model found by GridSearchCV\n",
    "# best_knn = grid_search.best_estimator_\n",
    "\n",
    "# # Make predictions on the training and testing sets using the best model\n",
    "# y_pred_train = best_knn.predict(X_tr)\n",
    "# y_pred_test = best_knn.predict(X_te)\n"
   ]
  },
  {
   "cell_type": "markdown",
   "id": "258bf411",
   "metadata": {
    "papermill": {
     "duration": 0.040813,
     "end_time": "2024-08-16T13:22:33.826637",
     "exception": false,
     "start_time": "2024-08-16T13:22:33.785824",
     "status": "completed"
    },
    "tags": []
   },
   "source": [
    "# **4th Highest Score: SVM**\n",
    "**Score: 0.7853**"
   ]
  },
  {
   "cell_type": "code",
   "execution_count": 60,
   "id": "aa9cd943",
   "metadata": {
    "execution": {
     "iopub.execute_input": "2024-08-16T13:22:33.910594Z",
     "iopub.status.busy": "2024-08-16T13:22:33.910197Z",
     "iopub.status.idle": "2024-08-16T13:22:33.917074Z",
     "shell.execute_reply": "2024-08-16T13:22:33.916038Z"
    },
    "papermill": {
     "duration": 0.051776,
     "end_time": "2024-08-16T13:22:33.919541",
     "exception": false,
     "start_time": "2024-08-16T13:22:33.867765",
     "status": "completed"
    },
    "tags": []
   },
   "outputs": [],
   "source": [
    "# from sklearn.svm import SVC\n",
    "# from sklearn.model_selection import GridSearchCV\n",
    "\n",
    "# # Create SVC classifier\n",
    "# svm = SVC()\n",
    "\n",
    "# # Define hyperparameters and their values to tune\n",
    "# param_grid = {\n",
    "#     'C': [10],               # Regularization parameter \n",
    "# #                                             High value of C gives small margin and large classification error\n",
    "# #                                             Small value of C gives large margin and small error.\n",
    "#     'kernel': ['rbf'],  # It computes the dot product between the input features and is \n",
    "# #                                             suitable for linearly separable datasets.\n",
    "#     'gamma': ['scale'],            # Kernel coefficient for 'rbf', 'poly', 'sigmoid'\n",
    "#     'degree': [2]\n",
    "# }\n",
    "# # It computes the dot product between the input features and is suitable for linearly separable datasets.\n",
    "# # The polynomial kernel: polynomial of the dot product of their feature vectors.It introduces nonlinearity\n",
    "# #                    into the decision boundary, allowing SVMs to capture more complex relationships in the data.\n",
    "# # The RBF kernel, also known as the Gaussian kernel, computes the similarity between samples based on the \n",
    "# #                      Gaussian (radial basis) function.\n",
    "    \n",
    "    \n",
    "# # Perform grid search cross-validation\n",
    "# grid_search = GridSearchCV(estimator=svm, param_grid=param_grid, cv=5, scoring='accuracy', n_jobs=-1)\n",
    "\n",
    "# # Fit the grid search to the training data\n",
    "# grid_search.fit(X_tr, y)\n",
    "\n",
    "# # Print the best hyperparameters found\n",
    "# print(\"Best hyperparameters:\", grid_search.best_params_)\n",
    "# Best hyperparameters: {'C': 10, 'degree': 2, 'gamma': 'scale', 'kernel': 'rbf'}\n",
    "\n",
    "# # Use the best model found by GridSearchCV\n",
    "# best_svm = grid_search.best_estimator_\n",
    "\n",
    "# # Make predictions on the training and testing sets using the best model\n",
    "# y_pred_train = best_svm.predict(X_tr)\n",
    "# y_pred_test = best_svm.predict(X_te)\n"
   ]
  },
  {
   "cell_type": "markdown",
   "id": "3e341441",
   "metadata": {
    "papermill": {
     "duration": 0.040718,
     "end_time": "2024-08-16T13:22:34.002082",
     "exception": false,
     "start_time": "2024-08-16T13:22:33.961364",
     "status": "completed"
    },
    "tags": []
   },
   "source": [
    "# **XGBClassifier**\n",
    "**Score: 0.7809**"
   ]
  },
  {
   "cell_type": "code",
   "execution_count": 61,
   "id": "48918cd9",
   "metadata": {
    "execution": {
     "iopub.execute_input": "2024-08-16T13:22:34.088148Z",
     "iopub.status.busy": "2024-08-16T13:22:34.087695Z",
     "iopub.status.idle": "2024-08-16T13:22:34.094426Z",
     "shell.execute_reply": "2024-08-16T13:22:34.093273Z"
    },
    "papermill": {
     "duration": 0.052662,
     "end_time": "2024-08-16T13:22:34.097129",
     "exception": false,
     "start_time": "2024-08-16T13:22:34.044467",
     "status": "completed"
    },
    "tags": []
   },
   "outputs": [],
   "source": [
    "# from sklearn.feature_extraction.text import TfidfVectorizer\n",
    "# from sklearn.model_selection import train_test_split, GridSearchCV\n",
    "# from xgboost import XGBClassifier\n",
    "\n",
    "# # Fill missing values\n",
    "# train_dataset = train_dataset.fillna('')\n",
    "\n",
    "# # Split the dataset\n",
    "# X = train_dataset[\"Recipe_Review\"]\n",
    "# y = train_dataset[\"Rating\"]\n",
    "# X_train, X_test, y_train, y_test = train_test_split(X, y, test_size=0.2, random_state=42)\n",
    "\n",
    "# # Vectorize the text data\n",
    "# vectorizer = TfidfVectorizer()\n",
    "\n",
    "# X_train_vectorized = vectorizer.fit_transform(X_train)\n",
    "# X_test_vectorized = vectorizer.transform(X_test)\n",
    "\n",
    "# # Define the parameter grid for hyperparameter tuning\n",
    "# param_grid = {\n",
    "#     'n_estimators': [100, 200, 300],\n",
    "#     'learning_rate': [0.01, 0.1, 0.2],\n",
    "#     'max_depth': [3, 4, 5]\n",
    "# }\n",
    "\n",
    "# # Initialize the XGBoost classifier\n",
    "# xgb_model = XGBClassifier()\n",
    "\n",
    "# # Perform grid search cross-validation\n",
    "# grid_search = GridSearchCV(estimator=xgb_model, param_grid=param_grid, cv=5, scoring='accuracy')\n",
    "\n",
    "# # Fit the grid search to the training data\n",
    "# # grid_search.fit(X_train_vectorized, y_train)\n",
    "# grid_search.fit(X_tr, y)\n",
    "\n",
    "# # Print the best hyperparameters found\n",
    "# print(\"Best hyperparameters:\", grid_search.best_params_)\n",
    "\n",
    "# # Use the best model found by GridSearchCV\n",
    "# best_xgb_model = grid_search.best_estimator_\n",
    "\n",
    "# # Make predictions on the training and testing sets using the best model\n",
    "# # y_pred_train = best_xgb_model.predict(X_train_vectorized)\n",
    "# # y_pred_test = best_xgb_model.predict(X_test_vectorized)\n",
    "# y_pred_train = best_xgb_model.predict(X_tr)\n",
    "# y_pred_test = best_xgb_model.predict(X_te)\n",
    "\n",
    "# # xgb_model.fit(X_train, y_train)\n",
    "# # y_pred = xgb_model.predict(X_test)"
   ]
  },
  {
   "cell_type": "markdown",
   "id": "997c89f0",
   "metadata": {
    "papermill": {
     "duration": 0.040991,
     "end_time": "2024-08-16T13:22:34.179379",
     "exception": false,
     "start_time": "2024-08-16T13:22:34.138388",
     "status": "completed"
    },
    "tags": []
   },
   "source": [
    "# **3rd Highest Score : Logistic Regression**\n",
    "**Score: 0.78860**"
   ]
  },
  {
   "cell_type": "code",
   "execution_count": 62,
   "id": "b29bb256",
   "metadata": {
    "_kg_hide-output": true,
    "execution": {
     "iopub.execute_input": "2024-08-16T13:22:34.265919Z",
     "iopub.status.busy": "2024-08-16T13:22:34.265472Z",
     "iopub.status.idle": "2024-08-16T13:22:34.271617Z",
     "shell.execute_reply": "2024-08-16T13:22:34.270417Z"
    },
    "papermill": {
     "duration": 0.052283,
     "end_time": "2024-08-16T13:22:34.274457",
     "exception": false,
     "start_time": "2024-08-16T13:22:34.222174",
     "status": "completed"
    },
    "tags": []
   },
   "outputs": [],
   "source": [
    "# from sklearn.linear_model import LogisticRegression\n",
    "# from sklearn.model_selection import GridSearchCV\n",
    "\n",
    "# LR = LogisticRegression(max_iter=1000)\n",
    "\n",
    "# # Define hyperparameters and their values to tune\n",
    "# param_grid = {\n",
    "#     'penalty': ['l1', 'l2'],  # Regularization penalty\n",
    "#     'C': [0.001, 0.01, 0.1, 1, 10, 100],  # Inverse of regularization strength\n",
    "#     'solver': ['liblinear', 'saga']  # Optimization algorithm\n",
    "# }\n",
    "\n",
    "# # Perform grid search cross-validation\n",
    "# grid_search = GridSearchCV(estimator=LR, param_grid=param_grid, cv=5, scoring='accuracy')\n",
    "\n",
    "# # Fit the grid search to the training data\n",
    "# grid_search.fit(X_tr, y)\n",
    "\n",
    "# # Print the best hyperparameters found\n",
    "\n",
    "# print(\"Best hyperparameters:\", grid_search.best_params_)\n",
    "\n",
    "# # Use the best model found by GridSearchCV\n",
    "# best_LR = grid_search.best_estimator_\n",
    "\n",
    "# # Make predictions on the training and testing sets using the best model\n",
    "# y_pred_train = best_LR.predict(X_tr)\n",
    "# y_pred_test = best_LR.predict(X_te)\n",
    "\n",
    "# # LR.fit(X_tr, y)\n"
   ]
  },
  {
   "cell_type": "markdown",
   "id": "44b69eb7",
   "metadata": {
    "papermill": {
     "duration": 0.041208,
     "end_time": "2024-08-16T13:22:34.357682",
     "exception": false,
     "start_time": "2024-08-16T13:22:34.316474",
     "status": "completed"
    },
    "tags": []
   },
   "source": [
    "# **LGBM Classifier**\n",
    "**Score: 0.78332**"
   ]
  },
  {
   "cell_type": "code",
   "execution_count": 63,
   "id": "4384a234",
   "metadata": {
    "execution": {
     "iopub.execute_input": "2024-08-16T13:22:34.442337Z",
     "iopub.status.busy": "2024-08-16T13:22:34.441891Z",
     "iopub.status.idle": "2024-08-16T13:22:34.447433Z",
     "shell.execute_reply": "2024-08-16T13:22:34.446083Z"
    },
    "papermill": {
     "duration": 0.050861,
     "end_time": "2024-08-16T13:22:34.450210",
     "exception": false,
     "start_time": "2024-08-16T13:22:34.399349",
     "status": "completed"
    },
    "tags": []
   },
   "outputs": [],
   "source": [
    "# from lightgbm import LGBMClassifier\n",
    "\n",
    "# # Initialize the LightGBM classifier\n",
    "# lgbm = LGBMClassifier()\n",
    "\n",
    "# # Fit the classifier to the training data\n",
    "# lgbm.fit(X_tr, y)\n",
    "\n",
    "# # Make predictions on the training and testing sets\n",
    "# y_pred_train = lgbm.predict(X_tr)\n",
    "# y_pred_test = lgbm.predict(X_te)"
   ]
  },
  {
   "cell_type": "code",
   "execution_count": 64,
   "id": "4266ad41",
   "metadata": {
    "execution": {
     "iopub.execute_input": "2024-08-16T13:22:34.534915Z",
     "iopub.status.busy": "2024-08-16T13:22:34.534489Z",
     "iopub.status.idle": "2024-08-16T13:22:34.541193Z",
     "shell.execute_reply": "2024-08-16T13:22:34.540035Z"
    },
    "papermill": {
     "duration": 0.052181,
     "end_time": "2024-08-16T13:22:34.543727",
     "exception": false,
     "start_time": "2024-08-16T13:22:34.491546",
     "status": "completed"
    },
    "tags": []
   },
   "outputs": [],
   "source": [
    "# from lightgbm import LGBMClassifier\n",
    "# from sklearn.model_selection import GridSearchCV\n",
    "\n",
    "# lgbm = LGBMClassifier()\n",
    "\n",
    "# # Define hyperparameters and their values to tune\n",
    "# param_grid = {\n",
    "#     'learning_rate': np.arange(0.01,0.2),\n",
    "#     'n_estimators': range(50,250),\n",
    "#     'max_depth': [3, 5, 10, 20, 30, 50],\n",
    "#     'min_child_samples': [3, 5, 10, 20, 30, 50],\n",
    "#     'subsample': [0.2, 0.4, 0.6, 0.8, 0.9],\n",
    "#     'colsample_bytree': [0.2, 0.4, 0.6, 0.8, 0.9],\n",
    "#     'reg_alpha': [0.0, 0.2, 0.5, 0.7, 1.0],\n",
    "#     'reg_lambda': [0.0, 0.2, 0.5, 0.7, 1.0],\n",
    "#     'n_jobs': [-1]\n",
    "# }\n",
    "\n",
    "# # param_grid = {\n",
    "# #         'learning_rate': np.arange( 0.01, 0.2),\n",
    "# #         'n_estimators': range(50, 250),\n",
    "# #         'max_depth': range(3, 50),\n",
    "# #         'min_child_samples': range(3, 50),\n",
    "# #         'subsample': np.arange(0.2, 0.9),\n",
    "# #         'colsample_bytree': np.arange(0.2, 0.9),\n",
    "# #         'reg_alpha': np.arange(0.0, 1.0),\n",
    "# #         'reg_lambda': np.arange(0.0, 1.0),\n",
    "# #         'n_jobs': [-1]\n",
    "# # }\n",
    "\n",
    "# # Perform grid search cross-validation\n",
    "# grid_search = GridSearchCV(estimator=lgbm, param_grid=param_grid, cv=5, scoring='accuracy')\n",
    "\n",
    "# # Fit the grid search to the training data\n",
    "# grid_search.fit(X_tr, y)\n",
    "\n",
    "# # Print the best hyperparameters found\n",
    "\n",
    "# print(\"Best hyperparameters:\", grid_search.best_params_)\n",
    "\n",
    "# # Use the best model found by GridSearchCV\n",
    "# best_LGBM = grid_search.best_estimator_\n",
    "\n",
    "# # Make predictions on the training and testing sets using the best model\n",
    "# y_pred_train = best_LGBM.predict(X_tr)\n",
    "# y_pred_test = best_LGBM.predict(X_te)\n",
    "\n",
    "# # LR.fit(X_tr, y)"
   ]
  },
  {
   "cell_type": "code",
   "execution_count": 65,
   "id": "5ff78d85",
   "metadata": {
    "execution": {
     "iopub.execute_input": "2024-08-16T13:22:34.630081Z",
     "iopub.status.busy": "2024-08-16T13:22:34.629602Z",
     "iopub.status.idle": "2024-08-16T13:22:34.636805Z",
     "shell.execute_reply": "2024-08-16T13:22:34.635370Z"
    },
    "papermill": {
     "duration": 0.054233,
     "end_time": "2024-08-16T13:22:34.639480",
     "exception": false,
     "start_time": "2024-08-16T13:22:34.585247",
     "status": "completed"
    },
    "tags": []
   },
   "outputs": [],
   "source": [
    "# Modified LGBM\n",
    "\n",
    "# from lightgbm import LGBMClassifier\n",
    "# from sklearn.model_selection import GridSearchCV\n",
    "\n",
    "# lgbm = LGBMClassifier()\n",
    "\n",
    "# # Define hyperparameters and their values to tune\n",
    "# param_grid = {\n",
    "#     'learning_rate': [0.01, 0.1, 0.2],  # Narrowed down the range\n",
    "#     'n_estimators': [50, 100, 150],       # Narrowed down the range\n",
    "#     'max_depth': [3, 5, 10],              # Limited the values\n",
    "#     'min_child_samples': [3, 5, 10],       # Limited the values\n",
    "#     'subsample': [0.2, 0.6, 0.9],         # Limited the values\n",
    "#     'colsample_bytree': [0.2, 0.6, 0.9],  # Limited the values\n",
    "#     'reg_alpha': [0.0, 0.5, 1.0],          # Limited the values\n",
    "#     'reg_lambda': [0.0, 0.5, 1.0],         # Limited the values\n",
    "#     'n_jobs': [-1]\n",
    "# }\n",
    "\n",
    "# # Perform grid search cross-validation\n",
    "# grid_search = GridSearchCV(estimator=lgbm, param_grid=param_grid, cv=5, scoring='accuracy', n_jobs=-1)\n",
    "\n",
    "# # Fit the grid search to the training data\n",
    "# grid_search.fit(X_tr, y)\n",
    "\n",
    "# # Print the best hyperparameters found\n",
    "# print(\"Best hyperparameters:\", grid_search.best_params_)\n",
    "\n",
    "# # Use the best model found by GridSearchCV\n",
    "# best_LGBM = grid_search.best_estimator_\n",
    "\n",
    "# # Make predictions on the training and testing sets using the best model\n",
    "# y_pred_train = best_LGBM.predict(X_tr)\n",
    "# y_pred_test = best_LGBM.predict(X_te)\n"
   ]
  },
  {
   "cell_type": "code",
   "execution_count": 66,
   "id": "dc8f7b25",
   "metadata": {
    "execution": {
     "iopub.execute_input": "2024-08-16T13:22:34.725519Z",
     "iopub.status.busy": "2024-08-16T13:22:34.725073Z",
     "iopub.status.idle": "2024-08-16T13:22:34.731622Z",
     "shell.execute_reply": "2024-08-16T13:22:34.730417Z"
    },
    "papermill": {
     "duration": 0.052924,
     "end_time": "2024-08-16T13:22:34.734498",
     "exception": false,
     "start_time": "2024-08-16T13:22:34.681574",
     "status": "completed"
    },
    "tags": []
   },
   "outputs": [],
   "source": [
    "# #Alternate Code:\n",
    "# #Score: 0.78332\n",
    "\n",
    "# from lightgbm import LGBMClassifier\n",
    "# from sklearn.model_selection import RandomizedSearchCV\n",
    "# from scipy.stats import randint, uniform\n",
    "\n",
    "# lgbm = LGBMClassifier()\n",
    "\n",
    "# # Define hyperparameters and their values to tune\n",
    "# param_dist = {\n",
    "#     'learning_rate': uniform(0.01, 0.19),  # Uniform distribution between 0.01 and 0.2\n",
    "#     'n_estimators': randint(50, 250),       # Discrete uniform distribution between 50 and 250\n",
    "#     'max_depth': randint(3, 51),            # Discrete uniform distribution between 3 and 50\n",
    "#     'min_child_samples': randint(3, 51),     # Discrete uniform distribution between 3 and 50\n",
    "#     'subsample': uniform(0.2, 0.7),         # Uniform distribution between 0.2 and 0.9\n",
    "#     'colsample_bytree': uniform(0.2, 0.7),  # Uniform distribution between 0.2 and 0.9\n",
    "#     'reg_alpha': uniform(0.0, 1.0),          # Uniform distribution between 0.0 and 1.0\n",
    "#     'reg_lambda': uniform(0.0, 1.0),         # Uniform distribution between 0.0 and 1.0\n",
    "#     'n_jobs': [-1]\n",
    "# }\n",
    "\n",
    "# # Perform randomized search cross-validation\n",
    "# random_search = RandomizedSearchCV(estimator=lgbm, param_distributions=param_dist, n_iter=100, cv=5, scoring='accuracy', random_state=42)\n",
    "\n",
    "# # Fit the randomized search to the training data\n",
    "# random_search.fit(X_tr, y)\n",
    "\n",
    "# # Print the best hyperparameters found\n",
    "# print(\"Best hyperparameters:\", random_search.best_params_)\n",
    "\n",
    "# # Use the best model found by RandomizedSearchCV\n",
    "# best_LGBM = random_search.best_estimator_\n",
    "\n",
    "# # Make predictions on the training and testing sets using the best model\n",
    "# y_pred_train = best_LGBM.predict(X_tr)\n",
    "# y_pred_test = best_LGBM.predict(X_te)\n"
   ]
  },
  {
   "cell_type": "markdown",
   "id": "050d95fc",
   "metadata": {
    "papermill": {
     "duration": 0.041437,
     "end_time": "2024-08-16T13:22:34.818605",
     "exception": false,
     "start_time": "2024-08-16T13:22:34.777168",
     "status": "completed"
    },
    "tags": []
   },
   "source": [
    "# **Stacking Classifier**"
   ]
  },
  {
   "cell_type": "code",
   "execution_count": 67,
   "id": "2e76687d",
   "metadata": {
    "execution": {
     "iopub.execute_input": "2024-08-16T13:22:34.904329Z",
     "iopub.status.busy": "2024-08-16T13:22:34.903849Z",
     "iopub.status.idle": "2024-08-16T13:22:34.911939Z",
     "shell.execute_reply": "2024-08-16T13:22:34.910649Z"
    },
    "papermill": {
     "duration": 0.054235,
     "end_time": "2024-08-16T13:22:34.914536",
     "exception": false,
     "start_time": "2024-08-16T13:22:34.860301",
     "status": "completed"
    },
    "tags": []
   },
   "outputs": [],
   "source": [
    "# from sklearn.ensemble import StackingClassifier\n",
    "# from sklearn.model_selection import RandomizedSearchCV, StratifiedKFold\n",
    "# from sklearn.neural_network import MLPClassifier\n",
    "# from sklearn.linear_model import LogisticRegression\n",
    "# from sklearn.svm import SVC\n",
    "# from scipy.stats import randint\n",
    "\n",
    "# # Define base classifiers\n",
    "# mlp = MLPClassifier()\n",
    "# lr = LogisticRegression(max_iter=1000)\n",
    "# svm = SVC()\n",
    "\n",
    "# # Define hyperparameters and their values to tune for each base classifier\n",
    "# param_dist_mlp = {\n",
    "#     'hidden_layer_sizes': [(150,)],\n",
    "#     'activation': ['relu'],\n",
    "#     'solver': ['adam'],\n",
    "#     'alpha': [0.001],\n",
    "#     'learning_rate': ['constant']\n",
    "# }\n",
    "\n",
    "# param_dist_lr = {\n",
    "#     'penalty': ['l1', 'l2'],\n",
    "#     'C': [0.001, 0.01, 0.1, 1, 10, 100],\n",
    "#     'solver': ['liblinear', 'saga']\n",
    "# }\n",
    "\n",
    "# param_dist_svm = {\n",
    "#     'C': [10],\n",
    "#     'degree': [2],\n",
    "#     'kernel': ['rbf'],\n",
    "#     'gamma': ['scale']\n",
    "# }\n",
    "\n",
    "# # Define the Stacking Classifier\n",
    "# estimators = [\n",
    "#     ('mlp', MLPClassifier()),\n",
    "#     ('lr', LogisticRegression(max_iter=1000)),\n",
    "#     ('svm', SVC())\n",
    "# ]\n",
    "# stacking_classifier = StackingClassifier(estimators=estimators, final_estimator=MLPClassifier())\n",
    "\n",
    "# # Define hyperparameters and their values to tune for the stacking classifier\n",
    "# param_dist_stacking = {\n",
    "#     'final_estimator__hidden_layer_sizes': [(100,)],\n",
    "#     'final_estimator__activation': ['relu'],\n",
    "#     'final_estimator__solver': ['adam'],\n",
    "#     'final_estimator__alpha': [0.0001],\n",
    "#     'final_estimator__learning_rate': ['constant']\n",
    "# }\n",
    "\n",
    "# # Define StratifiedKFold for cross-validation\n",
    "# cv = StratifiedKFold(n_splits=3, shuffle=True, random_state=42)\n",
    "\n",
    "# # Perform Randomized Search CV for Stacking Classifier\n",
    "# random_search_stacking = RandomizedSearchCV(estimator=stacking_classifier, param_distributions=param_dist_stacking, n_iter=10, cv=cv, scoring='accuracy', n_jobs=-1)\n",
    "\n",
    "# # Fit the randomized search to the training data\n",
    "# random_search_stacking.fit(X_tr, y)\n",
    "\n",
    "# # Print the best hyperparameters found\n",
    "# print(\"Best hyperparameters for Stacking Classifier:\", random_search_stacking.best_params_)\n",
    "# # Best hyperparameters for Stacking Classifier: {'final_estimator__solver': 'adam', 'final_estimator__learning_rate': 'constant', 'final_estimator__hidden_layer_sizes': (100,), 'final_estimator__alpha': 0.0001, 'final_estimator__activation': 'relu'}\n",
    "\n",
    "# # Use the best model found by RandomizedSearchCV for Stacking Classifier\n",
    "# best_stacking = random_search_stacking.best_estimator_\n",
    "\n",
    "# # Make predictions on the training and testing sets using the best Stacking Classifier model\n",
    "# y_pred_train_stacking = best_stacking.predict(X_tr)\n",
    "# y_pred_test_stacking = best_stacking.predict(X_te)\n"
   ]
  },
  {
   "cell_type": "markdown",
   "id": "4d55bc3c",
   "metadata": {
    "papermill": {
     "duration": 0.041329,
     "end_time": "2024-08-16T13:22:34.997719",
     "exception": false,
     "start_time": "2024-08-16T13:22:34.956390",
     "status": "completed"
    },
    "tags": []
   },
   "source": [
    "# **Submission Code**"
   ]
  },
  {
   "cell_type": "code",
   "execution_count": 68,
   "id": "a03ba416",
   "metadata": {
    "execution": {
     "iopub.execute_input": "2024-08-16T13:22:35.085072Z",
     "iopub.status.busy": "2024-08-16T13:22:35.084608Z",
     "iopub.status.idle": "2024-08-16T13:22:35.111811Z",
     "shell.execute_reply": "2024-08-16T13:22:35.110432Z"
    },
    "papermill": {
     "duration": 0.074063,
     "end_time": "2024-08-16T13:22:35.114917",
     "exception": false,
     "start_time": "2024-08-16T13:22:35.040854",
     "status": "completed"
    },
    "tags": []
   },
   "outputs": [],
   "source": [
    "ID=[]\n",
    "for i in range (1,len(y_pred_test)+1):\n",
    "    ID.append(i)\n",
    "final_pred = pd.DataFrame({\"ID\":ID,\"total_amount\":y_pred_test})\n",
    "final_pred.to_csv(\"submission.csv\",index=False)"
   ]
  }
 ],
 "metadata": {
  "kaggle": {
   "accelerator": "none",
   "dataSources": [
    {
     "databundleVersionId": 7452256,
     "sourceId": 67079,
     "sourceType": "competition"
    }
   ],
   "dockerImageVersionId": 30635,
   "isGpuEnabled": false,
   "isInternetEnabled": false,
   "language": "python",
   "sourceType": "notebook"
  },
  "kernelspec": {
   "display_name": "Python 3",
   "language": "python",
   "name": "python3"
  },
  "language_info": {
   "codemirror_mode": {
    "name": "ipython",
    "version": 3
   },
   "file_extension": ".py",
   "mimetype": "text/x-python",
   "name": "python",
   "nbconvert_exporter": "python",
   "pygments_lexer": "ipython3",
   "version": "3.10.12"
  },
  "papermill": {
   "default_parameters": {},
   "duration": 1736.918147,
   "end_time": "2024-08-16T13:22:37.783546",
   "environment_variables": {},
   "exception": null,
   "input_path": "__notebook__.ipynb",
   "output_path": "__notebook__.ipynb",
   "parameters": {},
   "start_time": "2024-08-16T12:53:40.865399",
   "version": "2.4.0"
  }
 },
 "nbformat": 4,
 "nbformat_minor": 5
}
